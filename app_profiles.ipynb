{
 "cells": [
  {
   "cell_type": "markdown",
   "id": "f0ec82b8-2e1b-4225-9f3b-4199946a8c12",
   "metadata": {},
   "source": [
    "# Profitable App Profiles for the App Store and Google Play Markets"
   ]
  },
  {
   "cell_type": "markdown",
   "id": "46eb6716-c2e0-4007-979e-c16816da84a3",
   "metadata": {},
   "source": [
    "For this project, we take the position of a data analyst working for a company that builds Android and iOS mobile apps. We make our apps available on Google Play and the App Store.\n",
    "\n",
    "We only build apps that are free to download and install, and our main source of revenue consists of in-app ads. This means that the number of users of our apps determines our revenue for any given app - the more users who see and engage with the ads, the better. Our goal for this project is to analyze data to help our developers understand what kind of apps are likely to attract more users."
   ]
  },
  {
   "cell_type": "markdown",
   "id": "16df4256-266c-4d1a-9ace-c00f05d03c65",
   "metadata": {},
   "source": [
    "## Opening and Exploring the Data"
   ]
  },
  {
   "cell_type": "markdown",
   "id": "3e679801-9d6b-4cfc-968e-45d9b95f2312",
   "metadata": {},
   "source": [
    "As of September 2018 there were approximately 2 million iOS apps available on the App Store, and 2.1 million Android apps on Google Play.\n",
    "\n",
    "![img](https://s3.amazonaws.com/dq-content/350/py1m8_statista.png) Source: [Statista](https://www.statista.com/statistics/276623/number-of-apps-available-in-leading-app-stores/) \n",
    "\n",
    "Collecting data for over four million apps requires a significant amount of time and money, so we'll try to analyze a sample of the data instead. To avoid spending resources with collecting new data ourselves, we should first try to see whether we can find any relevant existing data at no cost. Fortunately, there are two data sets that seem suitable for our purposes.\n",
    "\n",
    "* [A data set](https://www.kaggle.com/datasets/lava18/google-play-store-apps) containing data approximately ten thousand Android apps from Google Play.\n",
    "* [A data set](https://www.kaggle.com/datasets/ramamet4/app-store-apple-data-set-10k-apps) containing approximately seven thousand iOS apps from the App Store.\n",
    "\n",
    "Let's start by opening the two data sets and then continue with exploring the data."
   ]
  },
  {
   "cell_type": "code",
   "execution_count": 1,
   "id": "1a924137-3a72-4e41-b3f5-9988b05360f4",
   "metadata": {},
   "outputs": [],
   "source": [
    "from csv import reader\n",
    "\n",
    "# The Google Play data set\n",
    "google = list(reader(open('../data_sets/app_profiles/googleplaystore.csv', encoding='utf8')))\n",
    "google_header = google[0]\n",
    "google = google[1:]\n",
    "\n",
    "# The App Store data set\n",
    "ios = list(reader(open('../data_sets/app_profiles/AppleStore.csv', encoding='utf8')))\n",
    "ios_header = ios[0]\n",
    "ios = ios[1:]"
   ]
  },
  {
   "cell_type": "markdown",
   "id": "88813d78-7b3d-46d3-94a6-d61770322bd7",
   "metadata": {},
   "source": [
    "To make it easier to explore the two data sets, we'll first write a function named `explore_data()` that we can use repeatedly to explore rows in a more readable way. We'll also add an option for our function to show the number of rows and columns for any data set."
   ]
  },
  {
   "cell_type": "code",
   "execution_count": 2,
   "id": "18b2825e-497d-49b9-8382-d5fcaf2e574b",
   "metadata": {},
   "outputs": [],
   "source": [
    "def explore_data(dataset, start=0, end=5, rows_and_columns=False):\n",
    "    dataset_slice = dataset[start:end]\n",
    "    for row in dataset_slice:\n",
    "        print(row)\n",
    "        print('\\n') # adds empty line after each row for easy reading\n",
    "\n",
    "    if rows_and_columns:\n",
    "        print('Number of rows: ', len(dataset))\n",
    "        print('Number of columns: ', len(dataset[0]))"
   ]
  },
  {
   "cell_type": "code",
   "execution_count": 3,
   "id": "a435944f-4150-48a3-9eb0-8edcf85df1c8",
   "metadata": {},
   "outputs": [
    {
     "name": "stdout",
     "output_type": "stream",
     "text": [
      "Google Play Apps \n",
      "\n",
      "['App', 'Category', 'Rating', 'Reviews', 'Size', 'Installs', 'Type', 'Price', 'Content Rating', 'Genres', 'Last Updated', 'Current Ver', 'Android Ver'] \n",
      "\n",
      "['Photo Editor & Candy Camera & Grid & ScrapBook', 'ART_AND_DESIGN', '4.1', '159', '19M', '10,000+', 'Free', '0', 'Everyone', 'Art & Design', 'January 7, 2018', '1.0.0', '4.0.3 and up']\n",
      "\n",
      "\n",
      "['Coloring book moana', 'ART_AND_DESIGN', '3.9', '967', '14M', '500,000+', 'Free', '0', 'Everyone', 'Art & Design;Pretend Play', 'January 15, 2018', '2.0.0', '4.0.3 and up']\n",
      "\n",
      "\n",
      "['U Launcher Lite – FREE Live Cool Themes, Hide Apps', 'ART_AND_DESIGN', '4.7', '87510', '8.7M', '5,000,000+', 'Free', '0', 'Everyone', 'Art & Design', 'August 1, 2018', '1.2.4', '4.0.3 and up']\n",
      "\n",
      "\n",
      "Number of rows:  10841\n",
      "Number of columns:  13\n"
     ]
    }
   ],
   "source": [
    "print('Google Play Apps', '\\n')\n",
    "print(google_header, '\\n')\n",
    "explore_data(google, 0, 3, True)"
   ]
  },
  {
   "cell_type": "markdown",
   "id": "f6aa587e-357c-449e-947a-c0ba5d0ce766",
   "metadata": {},
   "source": [
    "We can see the Google Play data set has 10841 apps and 13 columns. At a quick glance, the columns that might be useful for the purpose of our analysis are `'App'`, `'Category'`, `'Reviews'`, `'Installs'`, `'Type'`, `'Price'`, and `'Genres'`.\n",
    "\n",
    "Now let's take a look at the App Store data set."
   ]
  },
  {
   "cell_type": "code",
   "execution_count": 4,
   "id": "4dbadd69-ec23-4d08-80a3-12e9fc989e63",
   "metadata": {
    "scrolled": true
   },
   "outputs": [
    {
     "name": "stdout",
     "output_type": "stream",
     "text": [
      "iOS Apps \n",
      "\n",
      "['id', 'track_name', 'size_bytes', 'currency', 'price', 'rating_count_tot', 'rating_count_ver', 'user_rating', 'user_rating_ver', 'ver', 'cont_rating', 'prime_genre', 'sup_devices.num', 'ipadSc_urls.num', 'lang.num', 'vpp_lic'] \n",
      "\n",
      "['284882215', 'Facebook', '389879808', 'USD', '0.0', '2974676', '212', '3.5', '3.5', '95.0', '4+', 'Social Networking', '37', '1', '29', '1']\n",
      "\n",
      "\n",
      "['389801252', 'Instagram', '113954816', 'USD', '0.0', '2161558', '1289', '4.5', '4.0', '10.23', '12+', 'Photo & Video', '37', '0', '29', '1']\n",
      "\n",
      "\n",
      "['529479190', 'Clash of Clans', '116476928', 'USD', '0.0', '2130805', '579', '4.5', '4.5', '9.24.12', '9+', 'Games', '38', '5', '18', '1']\n",
      "\n",
      "\n",
      "Number of rows:  7197\n",
      "Number of columns:  16\n"
     ]
    }
   ],
   "source": [
    "print('iOS Apps', '\\n')\n",
    "print(ios_header, '\\n')\n",
    "explore_data(ios, 0, 3, True)"
   ]
  },
  {
   "cell_type": "markdown",
   "id": "7e6e2e25-0ef0-424f-91ea-eba6c47916d2",
   "metadata": {},
   "source": [
    "Here the App Store data set has 7198 apps and 16 columns. The columns that look like they will be most useful for us will be `'track_name'`, `'currency'`, `'ratings_count_tot'`, `'ratings_count_ver'`, and `'prime_genre'`."
   ]
  },
  {
   "cell_type": "markdown",
   "id": "5c0a8fbd-7978-4dc6-bde6-dd0021bbded7",
   "metadata": {},
   "source": [
    "## Deleting Wrong Data"
   ]
  },
  {
   "cell_type": "markdown",
   "id": "3d3e8848-40ba-4be2-86c0-4f5f5a4f6c5f",
   "metadata": {},
   "source": [
    "The Google Play data set has a dedicated [discussion section](https://www.kaggle.com/datasets/lava18/google-play-store-apps/discussion), and we can see that [one of the discussions](https://www.kaggle.com/datasets/lava18/google-play-store-apps/discussion/66015) outlines an error for row 10472. Let's print this row and compare it against the header and another row that is correct."
   ]
  },
  {
   "cell_type": "code",
   "execution_count": 5,
   "id": "cf78cafe-45ba-41f6-84bc-506e5680d50d",
   "metadata": {},
   "outputs": [
    {
     "name": "stdout",
     "output_type": "stream",
     "text": [
      "['Life Made WI-Fi Touchscreen Photo Frame', '1.9', '19', '3.0M', '1,000+', 'Free', '0', 'Everyone', '', 'February 11, 2018', '1.0.19', '4.0 and up']\n",
      "\n",
      "\n",
      "['App', 'Category', 'Rating', 'Reviews', 'Size', 'Installs', 'Type', 'Price', 'Content Rating', 'Genres', 'Last Updated', 'Current Ver', 'Android Ver']\n",
      "\n",
      "\n",
      "['Photo Editor & Candy Camera & Grid & ScrapBook', 'ART_AND_DESIGN', '4.1', '159', '19M', '10,000+', 'Free', '0', 'Everyone', 'Art & Design', 'January 7, 2018', '1.0.0', '4.0.3 and up']\n"
     ]
    }
   ],
   "source": [
    "print(google[10472])  # incorrect row\n",
    "print('\\n')\n",
    "print(google_header)  # header\n",
    "print('\\n')\n",
    "print(google[0])      # correct row"
   ]
  },
  {
   "cell_type": "markdown",
   "id": "dc9157b3-83ab-428f-acc5-41843faa40c5",
   "metadata": {},
   "source": [
    "The row 10472 corresponds to the app *Life Made WI-Fi Touchscreen Photo Frame*, and we can see that the rating is 19. This is clearly off because the maximum rating for a Google Play app is 5. It appears to be a consequence of a missing `'Category'` column, which transposed everything to the left once. This also means that the row has an incorrect number of columns.\n",
    "\n",
    "We create a function `'clean_incorrect_columns()'` to iterate over the dataset and delete any rows that don't have the same number of columns as the header."
   ]
  },
  {
   "cell_type": "code",
   "execution_count": 6,
   "id": "708ffc51-c714-43c3-9f7f-ca2bd93e07f6",
   "metadata": {},
   "outputs": [],
   "source": [
    "def clean_incorrect_columns(header, dataset):\n",
    "    clean_dataset = []\n",
    "\n",
    "    for row in dataset:\n",
    "        if len(row) != len(header):\n",
    "            continue\n",
    "        clean_dataset.append(row)\n",
    "\n",
    "    return clean_dataset"
   ]
  },
  {
   "cell_type": "code",
   "execution_count": 7,
   "id": "aafa6977-2106-4d76-875b-3dd844bb618c",
   "metadata": {},
   "outputs": [
    {
     "name": "stdout",
     "output_type": "stream",
     "text": [
      "Google dataset contains 10841 entries pre-cleaning\n",
      "Google dataset contains 10840 entries post-cleaning\n",
      "\n",
      "\n",
      "iOS dataset contains 7197 entries pre-cleaning\n",
      "iOS dataset contains 7197 entries post-cleaning\n"
     ]
    }
   ],
   "source": [
    "print(f'Google dataset contains {len(google)} entries pre-cleaning')\n",
    "google = clean_incorrect_columns(google_header, google)\n",
    "print(f'Google dataset contains {len(google)} entries post-cleaning')\n",
    "print('\\n')\n",
    "print(f'iOS dataset contains {len(ios)} entries pre-cleaning')\n",
    "ios = clean_incorrect_columns(ios_header, ios)\n",
    "print(f'iOS dataset contains {len(ios)} entries post-cleaning')\n"
   ]
  },
  {
   "cell_type": "markdown",
   "id": "8775179e-5742-4952-b359-29c72a976e0f",
   "metadata": {},
   "source": [
    "We can see that the iOS data set had no problems, and the only column with problems in the Google Play data set was the one we already identified."
   ]
  },
  {
   "cell_type": "markdown",
   "id": "f238eb42-aca3-4a95-96c2-76b3e06a1b90",
   "metadata": {},
   "source": [
    "## Removing Duplicate Entries"
   ]
  },
  {
   "cell_type": "markdown",
   "id": "f5fa0b56-d8af-4325-8e2a-f96d8e2e926d",
   "metadata": {},
   "source": [
    "### Part One"
   ]
  },
  {
   "cell_type": "markdown",
   "id": "1fac1727-0366-4356-93dd-d8b9f854187d",
   "metadata": {},
   "source": [
    "If we explore the Google Play data set long enough, we'll find that some apps have more than one entry. For instance, the application Instagram has four entries:"
   ]
  },
  {
   "cell_type": "code",
   "execution_count": 8,
   "id": "33f97a2f-858b-40b9-96f2-c3fdea698238",
   "metadata": {},
   "outputs": [
    {
     "name": "stdout",
     "output_type": "stream",
     "text": [
      "['Instagram', 'SOCIAL', '4.5', '66577313', 'Varies with device', '1,000,000,000+', 'Free', '0', 'Teen', 'Social', 'July 31, 2018', 'Varies with device', 'Varies with device']\n",
      "['Instagram', 'SOCIAL', '4.5', '66577446', 'Varies with device', '1,000,000,000+', 'Free', '0', 'Teen', 'Social', 'July 31, 2018', 'Varies with device', 'Varies with device']\n",
      "['Instagram', 'SOCIAL', '4.5', '66577313', 'Varies with device', '1,000,000,000+', 'Free', '0', 'Teen', 'Social', 'July 31, 2018', 'Varies with device', 'Varies with device']\n",
      "['Instagram', 'SOCIAL', '4.5', '66509917', 'Varies with device', '1,000,000,000+', 'Free', '0', 'Teen', 'Social', 'July 31, 2018', 'Varies with device', 'Varies with device']\n"
     ]
    }
   ],
   "source": [
    "for app in google:\n",
    "    name = app[0]\n",
    "    if name == 'Instagram':\n",
    "        print(app)"
   ]
  },
  {
   "cell_type": "markdown",
   "id": "6747d6bc-b1ae-4272-9415-d392b159366c",
   "metadata": {},
   "source": [
    "We want to know how many cases there are where an app is counted more than once, so we create the function `'get_duplicate_apps()'` to count them for us. This function returns a list of all instances of apps that have already appeared elsewhere in the data set."
   ]
  },
  {
   "cell_type": "code",
   "execution_count": 9,
   "id": "f38ff6a1-d212-4d45-9acf-70999d1609b5",
   "metadata": {},
   "outputs": [],
   "source": [
    "def get_duplicate_apps(dataset, name_index):\n",
    "    unique_app = []\n",
    "    dup_app = []\n",
    "    \n",
    "    for row in dataset:\n",
    "        if row[name_index] in unique_app:\n",
    "            dup_app.append(row[name_index])\n",
    "            continue\n",
    "        unique_app.append(row[name_index])\n",
    "\n",
    "    return dup_app"
   ]
  },
  {
   "cell_type": "code",
   "execution_count": 10,
   "id": "7966805f-3b4e-4f6e-913a-9e7f0ca988f5",
   "metadata": {},
   "outputs": [
    {
     "name": "stdout",
     "output_type": "stream",
     "text": [
      "Google duplicate apps count: 1181 \n",
      "\n",
      "Examples of duplicate apps: ['Quick PDF Scanner + OCR FREE', 'Box', 'Google My Business', 'ZOOM Cloud Meetings', 'join.me - Simple Meetings', 'Box', 'Zenefits', 'Google Ads', 'Google My Business', 'Slack', 'FreshBooks Classic', 'Insightly CRM', 'QuickBooks Accounting: Invoicing & Expenses', 'HipChat - Chat Built for Teams', 'Xero Accounting Software'] \n",
      "\n",
      "iOS duplicate apps list: 0 \n",
      "\n"
     ]
    }
   ],
   "source": [
    "google_duplicates = get_duplicate_apps(google, 0)\n",
    "ios_duplicates = get_duplicate_apps(ios, 0)\n",
    "\n",
    "print(f'Google duplicate apps count: {len(google_duplicates)}', '\\n')\n",
    "print('Examples of duplicate apps:', google_duplicates[:15], '\\n')\n",
    "print(f'iOS duplicate apps list: {len(ios_duplicates)}', '\\n')\n",
    "\n"
   ]
  },
  {
   "cell_type": "markdown",
   "id": "b3461c08-2d23-4351-b357-4e3dad330055",
   "metadata": {},
   "source": [
    "We don't want to count any given app more than once when we analyze the data, so we need to remove all duplicate entries and keep only one entry per app. One thing we could do is remove the duplicate rows arbitrarily, but we can do better.\n",
    "\n",
    "If you examine the rows we printed up above for the Instagram app, the main difference happens in the fourth position of each row, which corresponds to the number of reviews. The different numbers imply that the data was collected at different times. We can use this to build a criterion for keeping rows. We don't remove rows arbitrarily, but instead will keep the rows that have the highest number of reviews because the higher the number of reviews, the more reliable the ratings."
   ]
  },
  {
   "cell_type": "markdown",
   "id": "5bc72f7a-b0e2-4e01-bcd8-c4b4d1078e0e",
   "metadata": {},
   "source": [
    "The below function takes the dataset, the index of the name, and the index of the review count and returns a cleaned dataset. It works by first adding all of the apps that aren't present in the list of duplicates to a fresh list, and then grabbing all instances of the duplicated apps that have the highest review count. There are some apps with multiple entries with the highest reviews (as we can see from the small selection above), and any of them will work. We grab the last entry in the list for convenience.\n",
    "\n",
    "We then check to make sure we removed all duplicates by checking the difference between the size of the old datasets and the size of the new datasets."
   ]
  },
  {
   "cell_type": "code",
   "execution_count": 11,
   "id": "6db90218-67ff-465b-b2b2-6d7c14b26746",
   "metadata": {},
   "outputs": [],
   "source": [
    "def clean_duplicate_data(dataset, name_index, review_index):\n",
    "    duplicates_set = set(get_duplicate_apps(dataset, name_index))\n",
    "    clean_dataset = [row for row in dataset if row[name_index] not in duplicates_set]\n",
    "    \n",
    "    for app_name in duplicates_set:\n",
    "        entry_list = [row for row in dataset if row[name_index] == app_name]\n",
    "\n",
    "        max_count_entries = [row for row in dataset if float(row[review_index]) == max([float(row[review_index]) for row in entry_list]) and row[name_index] == app_name]\n",
    "        clean_dataset.append(max_count_entries.pop())\n",
    "\n",
    "    return clean_dataset\n",
    "                "
   ]
  },
  {
   "cell_type": "code",
   "execution_count": 12,
   "id": "90727959-28ff-43af-8221-f00dd843d8ad",
   "metadata": {},
   "outputs": [
    {
     "name": "stdout",
     "output_type": "stream",
     "text": [
      "Google cleaned rows: 1181\n",
      "iOS cleaned rows: 0\n"
     ]
    }
   ],
   "source": [
    "old_google_len = len(google)\n",
    "google = clean_duplicate_data(google, 0, 3)\n",
    "new_google_len = len(google)\n",
    "old_ios_len = len(ios)\n",
    "ios = clean_duplicate_data(ios, 0, 5)\n",
    "new_ios_len = len(ios)\n",
    "\n",
    "print(f'Google cleaned rows: {old_google_len - new_google_len}')\n",
    "print(f'iOS cleaned rows: {old_ios_len - new_ios_len}')"
   ]
  },
  {
   "cell_type": "markdown",
   "id": "5a060d01-d6a8-45c7-85c4-c31898c441d4",
   "metadata": {},
   "source": [
    "The number of removed rows match the counts we got above for duplicate entries, so it is safe to say we got all of the duplicates and now have a dataset where each app is unique."
   ]
  },
  {
   "cell_type": "markdown",
   "id": "bcb38f2a-096d-4d66-a7e4-f9387cd519fb",
   "metadata": {},
   "source": [
    "## Removing Non-English Apps"
   ]
  },
  {
   "cell_type": "markdown",
   "id": "633e0d52-fae7-469f-a18c-f1413ac103d2",
   "metadata": {},
   "source": [
    "### Part One"
   ]
  },
  {
   "cell_type": "markdown",
   "id": "9485c1e0-83cf-4474-b1f6-5d7f45c0dd94",
   "metadata": {},
   "source": [
    "If you explore the data sets enough, you'll notive the names of some of the apps suggest they are not directed towards an English-speaking audience. Below, we see a couple of examples from both data sets:"
   ]
  },
  {
   "cell_type": "code",
   "execution_count": 13,
   "id": "37d9e301-ceb6-4d1b-9366-c628db3c3932",
   "metadata": {},
   "outputs": [
    {
     "name": "stdout",
     "output_type": "stream",
     "text": [
      "爱奇艺PPS -《欢乐颂2》电视剧热播\n",
      "聚力视频HD-人民的名义,跨界歌王全网热播\n",
      "Truyện Vui Tý Quậy\n",
      "Flame - درب عقلك يوميا\n"
     ]
    }
   ],
   "source": [
    "print(ios[813][1])\n",
    "print(ios[1193][1])\n",
    "print(google[225][0])\n",
    "print(google[428][0])"
   ]
  },
  {
   "cell_type": "markdown",
   "id": "9f0ae9df-886f-4d5a-bc45-1e68fc6d0a89",
   "metadata": {},
   "source": [
    "We only want to consider apps for an English-speaking audience, so next we'll go about removing any apps designed for another audience. A simple way to do this is by removing any apps that don't use common english characters -- English text usually includes letter from the English alphabet, numbers composed of single digits from 0 to 9, punctuation marks (., !, ?, ;, etc.), and other symbols (+, *, /, etc.)\n",
    "\n",
    "All these characters that are specific to English texts are encoded using the ASCII standard. Each ASCII character has a corresponding number between 0 and 127 associated with it, and we can take advantage of that the build a function that checks an app name and tells us whether it contains non-ASCII characters.\n",
    "\n",
    "We build this function below, and we use the built-in `ord()` function to find out the correspondingn encoding number of each character."
   ]
  },
  {
   "cell_type": "code",
   "execution_count": 14,
   "id": "44c20cea-cf44-4c41-ab7e-67d9707a439a",
   "metadata": {},
   "outputs": [],
   "source": [
    "def is_english(name):\n",
    "    for char in name:\n",
    "        if ord(char) > 127:\n",
    "            return False\n",
    "    return True"
   ]
  },
  {
   "cell_type": "code",
   "execution_count": 15,
   "id": "cc5d4148-1d6c-4d53-9d88-960886ca5e02",
   "metadata": {},
   "outputs": [
    {
     "name": "stdout",
     "output_type": "stream",
     "text": [
      "True\n",
      "False\n"
     ]
    }
   ],
   "source": [
    "print(is_english('Instagram'))\n",
    "print(is_english('爱奇艺PPS -《欢乐颂2》电视剧热播'))"
   ]
  },
  {
   "cell_type": "markdown",
   "id": "cdf07b68-65d4-49b2-889a-a2f0cf43a79c",
   "metadata": {},
   "source": [
    "The function seems to work fine, but some English app names use emojis or other symbols (™, — (em dash), – (en dash), etc.) that all fall outside of the ASCII range. Because of this, we'll have a number of false positives in its current form."
   ]
  },
  {
   "cell_type": "code",
   "execution_count": 16,
   "id": "ddc717ed-f302-4540-b017-4f951e2789d9",
   "metadata": {},
   "outputs": [
    {
     "name": "stdout",
     "output_type": "stream",
     "text": [
      "False\n",
      "False\n",
      "8482\n",
      "128540\n"
     ]
    }
   ],
   "source": [
    "print(is_english('Docs To Go™ Free Office Suite'))\n",
    "print(is_english('Instachat 😜'))\n",
    "\n",
    "print(ord('™'))\n",
    "print(ord('😜'))"
   ]
  },
  {
   "cell_type": "markdown",
   "id": "123fd4f9-8680-44b8-bdbb-990824958345",
   "metadata": {},
   "source": [
    "### Part Two"
   ]
  },
  {
   "cell_type": "markdown",
   "id": "6e00ae0e-e5ba-43cd-9b19-0e2b16b60416",
   "metadata": {},
   "source": [
    "To minimize the impact of data loss, we'll only remove an app if its name has more than three non-ASCII characters:"
   ]
  },
  {
   "cell_type": "code",
   "execution_count": 17,
   "id": "a7ec8047-1c78-45f0-be82-71960bf1295d",
   "metadata": {},
   "outputs": [
    {
     "name": "stdout",
     "output_type": "stream",
     "text": [
      "True\n",
      "True\n"
     ]
    }
   ],
   "source": [
    "def is_english(name):\n",
    "    non_ascii = 0\n",
    "\n",
    "    for character in name:\n",
    "        if ord(character) > 127:\n",
    "            non_ascii += 1\n",
    "\n",
    "    if non_ascii > 3:\n",
    "        return False\n",
    "    return True\n",
    "\n",
    "print(is_english('Docs To Go™ Free Office Suite'))\n",
    "print(is_english('Instachat 😜'))"
   ]
  },
  {
   "cell_type": "markdown",
   "id": "e56db95f-13e6-4b7d-be14-d86f7e5f278c",
   "metadata": {},
   "source": [
    "The function is not perfect, and some non-English apps might get past our filter, but this seems good enough at this point in our analysis — we shouldn't spend too much time on optimization at this point.\n",
    "\n",
    "Below, we use the `is_english()` function to filter out the non-English apps for both data sets:"
   ]
  },
  {
   "cell_type": "code",
   "execution_count": 18,
   "id": "001cb9da-f824-4bb7-acd0-67efea527f4a",
   "metadata": {},
   "outputs": [],
   "source": [
    "clean_google = [row for row in google if is_english(row[0])]\n",
    "clean_ios = [row for row in ios if is_english(row[1])]"
   ]
  },
  {
   "cell_type": "code",
   "execution_count": 19,
   "id": "e18c0316-ee10-4e1e-b759-1114f2c0c303",
   "metadata": {},
   "outputs": [
    {
     "name": "stdout",
     "output_type": "stream",
     "text": [
      "Google dataset all language \n",
      "\n",
      "Number of rows:  9659\n",
      "Number of columns:  13\n",
      "\n",
      "\n",
      "Google dataset English only \n",
      "\n",
      "Number of rows:  9614\n",
      "Number of columns:  13\n",
      "\n",
      "\n",
      "iOS dataset all language \n",
      "\n",
      "Number of rows:  7197\n",
      "Number of columns:  16\n",
      "\n",
      "\n",
      "iOS dataset English only \n",
      "\n",
      "Number of rows:  6183\n",
      "Number of columns:  16\n"
     ]
    }
   ],
   "source": [
    "print('Google dataset all language \\n')\n",
    "explore_data(google, start=0, end=0, rows_and_columns=True)\n",
    "print('\\n')\n",
    "print('Google dataset English only \\n')\n",
    "explore_data(clean_google, start=0, end=0, rows_and_columns=True)\n",
    "print('\\n')\n",
    "print('iOS dataset all language \\n')\n",
    "explore_data(ios, start=0, end=0, rows_and_columns=True)\n",
    "print('\\n')\n",
    "print('iOS dataset English only \\n')\n",
    "explore_data(clean_ios, start=0, end=0, rows_and_columns=True)\n"
   ]
  },
  {
   "cell_type": "markdown",
   "id": "24e16618-cbc8-48f4-87e5-ca8744056d4c",
   "metadata": {},
   "source": [
    "It looks like we were able to discard about 60 apps from Google Play and 1000+ from the Apple Store. This isn't particularly relevant to our research, but based on this it appears that Apple has a much larger non-English market share.\n",
    "\n",
    "We're left with 9614 Android apps and 6183 iOS apps."
   ]
  },
  {
   "cell_type": "markdown",
   "id": "6e54fe02-74aa-48be-b8a2-2928b520f16f",
   "metadata": {},
   "source": [
    "## Isolating the Free Apps"
   ]
  },
  {
   "cell_type": "markdown",
   "id": "06420c39-f363-4704-8b77-d9b44078dcf6",
   "metadata": {},
   "source": [
    "As we mentioned in the introduction, we only build apps that are free to download and install, and our main source of revenue consists of in-app ads. Our data sets contain both free and non-free apps, and we'll need to isolate only the free apps for our analysis. Below, we isolate the free apps for both our data sets."
   ]
  },
  {
   "cell_type": "code",
   "execution_count": 20,
   "id": "2a5de81a-17e1-4aa9-bba3-54fad28da0cc",
   "metadata": {},
   "outputs": [],
   "source": [
    "def is_free(row, index):\n",
    "    return float(row[index].strip('$')) == 0\n",
    "\n",
    "def clean_free_apps(dataset, index):\n",
    "    clean_dataset = []\n",
    "    for row in dataset:\n",
    "        if is_free(row, index):\n",
    "            clean_dataset.append(row)\n",
    "\n",
    "    return clean_dataset"
   ]
  },
  {
   "cell_type": "code",
   "execution_count": 21,
   "id": "491e25fe-4a77-4062-a55f-5c52462b2125",
   "metadata": {},
   "outputs": [],
   "source": [
    "free_google = clean_free_apps(clean_google, 7)\n",
    "free_ios = clean_free_apps(clean_ios, 4)"
   ]
  },
  {
   "cell_type": "code",
   "execution_count": 22,
   "id": "ef6fd8a8-211b-4d28-b7b5-a103d245924f",
   "metadata": {},
   "outputs": [
    {
     "name": "stdout",
     "output_type": "stream",
     "text": [
      "Google dataset All Price \n",
      "\n",
      "Number of rows:  9614\n",
      "Number of columns:  13\n",
      "\n",
      "\n",
      "Google dataset Free Only \n",
      "\n",
      "Number of rows:  8864\n",
      "Number of columns:  13\n",
      "\n",
      "\n",
      "iOS dataset All Price \n",
      "\n",
      "Number of rows:  6183\n",
      "Number of columns:  16\n",
      "\n",
      "\n",
      "iOS dataset Free Only \n",
      "\n",
      "Number of rows:  3222\n",
      "Number of columns:  16\n"
     ]
    }
   ],
   "source": [
    "print('Google dataset All Price \\n')\n",
    "explore_data(clean_google, start=0, end=0, rows_and_columns=True)\n",
    "print('\\n')\n",
    "print('Google dataset Free Only \\n')\n",
    "explore_data(free_google, start=0, end=0, rows_and_columns=True)\n",
    "print('\\n')\n",
    "print('iOS dataset All Price \\n')\n",
    "explore_data(clean_ios, start=0, end=0, rows_and_columns=True)\n",
    "print('\\n')\n",
    "print('iOS dataset Free Only \\n')\n",
    "explore_data(free_ios, start=0, end=0, rows_and_columns=True)"
   ]
  },
  {
   "cell_type": "markdown",
   "id": "52d917d4-960c-4836-968e-89071af1d812",
   "metadata": {},
   "source": [
    "We're left with 8864 Android apps and 3222 iOS apps, which should be enough for our analysis."
   ]
  },
  {
   "cell_type": "markdown",
   "id": "9073c43a-be09-43f0-a2fc-886abda9a021",
   "metadata": {},
   "source": [
    "## Most Common Apps by Genre"
   ]
  },
  {
   "cell_type": "markdown",
   "id": "c1d8787e-5ed3-4921-b770-ee1ad4bf3493",
   "metadata": {},
   "source": [
    "### Part One"
   ]
  },
  {
   "cell_type": "markdown",
   "id": "905c4d58-ec59-473a-97c1-1c37f6412129",
   "metadata": {},
   "source": [
    "As mentioned in the introduction, our aim is to determine the kinds of apps that are likely to attract more users because our revenue is highly influenced by the number of people using our apps.\n",
    "\n",
    "To minimize risk and overhead, our validation strategy for an app idea has three steps:\n",
    "\n",
    "1. Build a minimum Android version of the app, and add it to Google Play\n",
    "2. If the app has a good response from users, we develop it further\n",
    "3. If the app is profitable after six months, we build an iOS version of the app and add it to the App Store\n",
    "\n",
    "Our end goal is to have a version of the app on both Google Play and the App Store, so we want to find app profiles that are successful in both markets. For instance, a profile that might work well for both markets might be a productivity app that makes use of gamification.\n",
    "\n",
    "Let's begin the analysis by getting a sense of the most common genres for each market. For this, we'll build a frequency table for the `prime_genre` column of the App Store data set, and the `Genres` and `Category` columns of the Google Play data set."
   ]
  },
  {
   "cell_type": "markdown",
   "id": "299d53d6-d7f8-4a37-a40e-5c7de397ca86",
   "metadata": {},
   "source": [
    "### Part Two"
   ]
  },
  {
   "cell_type": "markdown",
   "id": "052168a0-d50b-497f-a51e-4d5a4e7010e8",
   "metadata": {},
   "source": [
    "We'll build two functions we can use to analyze the frequency tables:\n",
    "* One function to generate frequency tables that show percentages\n",
    "* Another function that we can use to display the percentages in a descending order"
   ]
  },
  {
   "cell_type": "code",
   "execution_count": 23,
   "id": "a2d21652-41f1-4e80-99b7-a4a608487433",
   "metadata": {},
   "outputs": [],
   "source": [
    "def freq_table(dataset, index):\n",
    "    table = {}\n",
    "    total = 0\n",
    "    \n",
    "    for row in dataset:\n",
    "        total += 1\n",
    "        value = row[index]\n",
    "        if value in table:\n",
    "            table[row[index]] += 1\n",
    "        else:\n",
    "            table[row[index]] = 1\n",
    "\n",
    "    table_percentages = {}\n",
    "    for key in table:\n",
    "        percentage = (table[key] / total) * 100\n",
    "        table_percentages[key] = percentage\n",
    "\n",
    "    return table_percentages"
   ]
  },
  {
   "cell_type": "code",
   "execution_count": 24,
   "id": "f1e7f274-352c-4c44-bb88-daf9ccf40dee",
   "metadata": {},
   "outputs": [],
   "source": [
    "def display_table(dataset, index):\n",
    "    table = freq_table(dataset, index)\n",
    "    table_display = []\n",
    "    for key in table:\n",
    "        key_val_as_tuple = (table[key], key)\n",
    "        table_display.append(key_val_as_tuple)\n",
    "\n",
    "    table_sorted = sorted(table_display, reverse = True)\n",
    "    for entry in table_sorted:\n",
    "        print(entry[1], ':', entry[0])"
   ]
  },
  {
   "cell_type": "markdown",
   "id": "cec69cf6-a057-427a-bb3a-cfa0b996d41a",
   "metadata": {},
   "source": [
    "### Part Three"
   ]
  },
  {
   "cell_type": "markdown",
   "id": "45846453-2b70-4ff6-bb98-d1cb99e97895",
   "metadata": {},
   "source": [
    "We start by examining the frequency table for the `prime_genre` column of the App Store data set."
   ]
  },
  {
   "cell_type": "code",
   "execution_count": 25,
   "id": "fae16450-dd71-454c-b798-dd2e57739c59",
   "metadata": {},
   "outputs": [
    {
     "name": "stdout",
     "output_type": "stream",
     "text": [
      "iOs prime_genre: \n",
      "\n",
      "Games : 58.16263190564867\n",
      "Entertainment : 7.883302296710118\n",
      "Photo & Video : 4.9658597144630665\n",
      "Education : 3.662321539416512\n",
      "Social Networking : 3.2898820608317814\n",
      "Shopping : 2.60707635009311\n",
      "Utilities : 2.5139664804469275\n",
      "Sports : 2.1415270018621975\n",
      "Music : 2.0484171322160147\n",
      "Health & Fitness : 2.0173805090006205\n",
      "Productivity : 1.7380509000620732\n",
      "Lifestyle : 1.5828677839851024\n",
      "News : 1.3345747982619491\n",
      "Travel : 1.2414649286157666\n",
      "Finance : 1.1173184357541899\n",
      "Weather : 0.8690254500310366\n",
      "Food & Drink : 0.8069522036002483\n",
      "Reference : 0.5586592178770949\n",
      "Business : 0.5276225946617008\n",
      "Book : 0.4345127250155183\n",
      "Navigation : 0.186219739292365\n",
      "Medical : 0.186219739292365\n",
      "Catalogs : 0.12414649286157665\n"
     ]
    }
   ],
   "source": [
    "print('iOs prime_genre: \\n')\n",
    "display_table(free_ios, ios_header.index('prime_genre'))"
   ]
  },
  {
   "cell_type": "markdown",
   "id": "affea34d-6d5f-41c0-a0e5-8561fcd1a9b6",
   "metadata": {},
   "source": [
    "We can see that among the free English apps, more than half (58.16%) are games. Entertainment apps are close to 8%, followed by photo and video apps, which are close to 5%. Only 3.66% of the apps are designed for education, followed by social networking apps which amount for 3.29% of the apps in our data set.\n",
    "\n",
    "The general impression is that the App Store (at least the part containing free English apps) is dominated by apps that are designed for fun (games, entertainment, photo and video, social networking, sports, music, etc.), while apps with practical purposes (education, shopping, utilities, productivity, lifestyle, etc.) are more rare. However, the fact that fun apps are the most numerous doesn't also imply that they also have the greatest number of users — the demand might not be the same as the offer.\n",
    "\n",
    "Let's continue by examining the `Genres` and `Category` columns of the Google Play data set (two columns which seem to be related)."
   ]
  },
  {
   "cell_type": "code",
   "execution_count": 27,
   "id": "d624cc40-a00c-4c57-98dc-6d285969e94d",
   "metadata": {},
   "outputs": [
    {
     "name": "stdout",
     "output_type": "stream",
     "text": [
      "Google Category: \n",
      "\n",
      "FAMILY : 18.94178700361011\n",
      "GAME : 9.713447653429604\n",
      "TOOLS : 8.461191335740072\n",
      "BUSINESS : 4.591606498194946\n",
      "LIFESTYLE : 3.9034296028880866\n",
      "PRODUCTIVITY : 3.892148014440433\n",
      "FINANCE : 3.7003610108303246\n",
      "MEDICAL : 3.531137184115524\n",
      "SPORTS : 3.395758122743682\n",
      "PERSONALIZATION : 3.3167870036101084\n",
      "COMMUNICATION : 3.2378158844765346\n",
      "HEALTH_AND_FITNESS : 3.0798736462093865\n",
      "PHOTOGRAPHY : 2.944494584837545\n",
      "NEWS_AND_MAGAZINES : 2.7978339350180503\n",
      "SOCIAL : 2.6624548736462095\n",
      "TRAVEL_AND_LOCAL : 2.33528880866426\n",
      "SHOPPING : 2.2450361010830324\n",
      "BOOKS_AND_REFERENCE : 2.1435018050541514\n",
      "DATING : 1.861462093862816\n",
      "VIDEO_PLAYERS : 1.7937725631768955\n",
      "MAPS_AND_NAVIGATION : 1.3989169675090252\n",
      "FOOD_AND_DRINK : 1.2409747292418771\n",
      "EDUCATION : 1.15072202166065\n",
      "ENTERTAINMENT : 0.947653429602888\n",
      "LIBRARIES_AND_DEMO : 0.9363718411552346\n",
      "AUTO_AND_VEHICLES : 0.9250902527075812\n",
      "HOUSE_AND_HOME : 0.8235559566787004\n",
      "WEATHER : 0.8009927797833934\n",
      "EVENTS : 0.7107400722021661\n",
      "PARENTING : 0.6543321299638989\n",
      "ART_AND_DESIGN : 0.6430505415162455\n",
      "COMICS : 0.6204873646209386\n",
      "BEAUTY : 0.5979241877256317\n"
     ]
    }
   ],
   "source": [
    "print('Google Category: \\n')\n",
    "display_table(free_google, google_header.index('Category'))"
   ]
  },
  {
   "cell_type": "markdown",
   "id": "645d8f3a-7ed2-4d38-9810-b15e27b145ee",
   "metadata": {},
   "source": [
    "The landscape seems significantly different on Google Play: there are not that many apps designed for fun, and it seems that a good number of apps are designed for practical purposes (family, tools, business, lifestyle, productivity, etc.). However, if we investigate this further, we can see that the family category (which accounts for almost 19% of the apps) mostly means games for kids.\n",
    "\n",
    "![img](https://camo.githubusercontent.com/0d974d86dfcb791ca1d1505f810ba5a191bb6248e413d9b6ae1a60b211cca918/68747470733a2f2f73332e616d617a6f6e6177732e636f6d2f64712d636f6e74656e742f3335302f7079316d385f66616d696c792e706e67)\n",
    "\n",
    "Even so, practical apps seem to have a better representation on Google Play compared to App Store. This picture is also confirmed by the frequency table we see for the `Genres` column."
   ]
  },
  {
   "cell_type": "code",
   "execution_count": 28,
   "id": "775277b7-ade5-49da-8846-4a0a25d92ddd",
   "metadata": {},
   "outputs": [
    {
     "name": "stdout",
     "output_type": "stream",
     "text": [
      "Google Genres: \n",
      "\n",
      "Tools : 8.449909747292418\n",
      "Entertainment : 6.069494584837545\n",
      "Education : 5.347472924187725\n",
      "Business : 4.591606498194946\n",
      "Productivity : 3.892148014440433\n",
      "Lifestyle : 3.892148014440433\n",
      "Finance : 3.7003610108303246\n",
      "Medical : 3.531137184115524\n",
      "Sports : 3.463447653429603\n",
      "Personalization : 3.3167870036101084\n",
      "Communication : 3.2378158844765346\n",
      "Action : 3.1024368231046933\n",
      "Health & Fitness : 3.0798736462093865\n",
      "Photography : 2.944494584837545\n",
      "News & Magazines : 2.7978339350180503\n",
      "Social : 2.6624548736462095\n",
      "Travel & Local : 2.3240072202166067\n",
      "Shopping : 2.2450361010830324\n",
      "Books & Reference : 2.1435018050541514\n",
      "Simulation : 2.0419675090252705\n",
      "Dating : 1.861462093862816\n",
      "Arcade : 1.8501805054151623\n",
      "Video Players & Editors : 1.7712093862815883\n",
      "Casual : 1.7599277978339352\n",
      "Maps & Navigation : 1.3989169675090252\n",
      "Food & Drink : 1.2409747292418771\n",
      "Puzzle : 1.128158844765343\n",
      "Racing : 0.9927797833935018\n",
      "Role Playing : 0.9363718411552346\n",
      "Libraries & Demo : 0.9363718411552346\n",
      "Auto & Vehicles : 0.9250902527075812\n",
      "Strategy : 0.9138086642599278\n",
      "House & Home : 0.8235559566787004\n",
      "Weather : 0.8009927797833934\n",
      "Events : 0.7107400722021661\n",
      "Adventure : 0.6768953068592057\n",
      "Comics : 0.6092057761732852\n",
      "Beauty : 0.5979241877256317\n",
      "Art & Design : 0.5979241877256317\n",
      "Parenting : 0.4963898916967509\n",
      "Card : 0.45126353790613716\n",
      "Casino : 0.42870036101083037\n",
      "Trivia : 0.41741877256317694\n",
      "Educational;Education : 0.39485559566787\n",
      "Board : 0.3835740072202166\n",
      "Educational : 0.3722924187725632\n",
      "Education;Education : 0.33844765342960287\n",
      "Word : 0.2594765342960289\n",
      "Casual;Pretend Play : 0.236913357400722\n",
      "Music : 0.2030685920577617\n",
      "Racing;Action & Adventure : 0.16922382671480143\n",
      "Puzzle;Brain Games : 0.16922382671480143\n",
      "Entertainment;Music & Video : 0.16922382671480143\n",
      "Casual;Brain Games : 0.13537906137184114\n",
      "Casual;Action & Adventure : 0.13537906137184114\n",
      "Arcade;Action & Adventure : 0.12409747292418773\n",
      "Action;Action & Adventure : 0.10153429602888085\n",
      "Educational;Pretend Play : 0.09025270758122744\n",
      "Simulation;Action & Adventure : 0.078971119133574\n",
      "Parenting;Education : 0.078971119133574\n",
      "Entertainment;Brain Games : 0.078971119133574\n",
      "Board;Brain Games : 0.078971119133574\n",
      "Parenting;Music & Video : 0.06768953068592057\n",
      "Educational;Brain Games : 0.06768953068592057\n",
      "Casual;Creativity : 0.06768953068592057\n",
      "Art & Design;Creativity : 0.06768953068592057\n",
      "Education;Pretend Play : 0.056407942238267145\n",
      "Role Playing;Pretend Play : 0.04512635379061372\n",
      "Education;Creativity : 0.04512635379061372\n",
      "Role Playing;Action & Adventure : 0.033844765342960284\n",
      "Puzzle;Action & Adventure : 0.033844765342960284\n",
      "Entertainment;Creativity : 0.033844765342960284\n",
      "Entertainment;Action & Adventure : 0.033844765342960284\n",
      "Educational;Creativity : 0.033844765342960284\n",
      "Educational;Action & Adventure : 0.033844765342960284\n",
      "Education;Music & Video : 0.033844765342960284\n",
      "Education;Brain Games : 0.033844765342960284\n",
      "Education;Action & Adventure : 0.033844765342960284\n",
      "Adventure;Action & Adventure : 0.033844765342960284\n",
      "Video Players & Editors;Music & Video : 0.02256317689530686\n",
      "Sports;Action & Adventure : 0.02256317689530686\n",
      "Simulation;Pretend Play : 0.02256317689530686\n",
      "Puzzle;Creativity : 0.02256317689530686\n",
      "Music;Music & Video : 0.02256317689530686\n",
      "Entertainment;Pretend Play : 0.02256317689530686\n",
      "Casual;Education : 0.02256317689530686\n",
      "Board;Action & Adventure : 0.02256317689530686\n",
      "Video Players & Editors;Creativity : 0.01128158844765343\n",
      "Trivia;Education : 0.01128158844765343\n",
      "Travel & Local;Action & Adventure : 0.01128158844765343\n",
      "Tools;Education : 0.01128158844765343\n",
      "Strategy;Education : 0.01128158844765343\n",
      "Strategy;Creativity : 0.01128158844765343\n",
      "Strategy;Action & Adventure : 0.01128158844765343\n",
      "Simulation;Education : 0.01128158844765343\n",
      "Role Playing;Brain Games : 0.01128158844765343\n",
      "Racing;Pretend Play : 0.01128158844765343\n",
      "Puzzle;Education : 0.01128158844765343\n",
      "Parenting;Brain Games : 0.01128158844765343\n",
      "Music & Audio;Music & Video : 0.01128158844765343\n",
      "Lifestyle;Pretend Play : 0.01128158844765343\n",
      "Lifestyle;Education : 0.01128158844765343\n",
      "Health & Fitness;Education : 0.01128158844765343\n",
      "Health & Fitness;Action & Adventure : 0.01128158844765343\n",
      "Entertainment;Education : 0.01128158844765343\n",
      "Communication;Creativity : 0.01128158844765343\n",
      "Comics;Creativity : 0.01128158844765343\n",
      "Casual;Music & Video : 0.01128158844765343\n",
      "Card;Action & Adventure : 0.01128158844765343\n",
      "Books & Reference;Education : 0.01128158844765343\n",
      "Art & Design;Pretend Play : 0.01128158844765343\n",
      "Art & Design;Action & Adventure : 0.01128158844765343\n",
      "Arcade;Pretend Play : 0.01128158844765343\n",
      "Adventure;Education : 0.01128158844765343\n"
     ]
    }
   ],
   "source": [
    "print('Google Genres: \\n')\n",
    "display_table(free_google, google_header.index('Genres'))"
   ]
  },
  {
   "cell_type": "markdown",
   "id": "c6994c11-dd5d-4709-b91f-a99b8f7f7aea",
   "metadata": {},
   "source": [
    "The difference between the `Genres` and the `Category` columns is not crystal clear, but one thing we can notice is that the `Genres` column is much more granular (it has more categories). We're only looking at the big picture at the moment, so we'll only work with the `Category` column moving forward.\n",
    "\n",
    "Up to this point, we found that the App Store is dominated by apps designed for fun, while Google Play shows a more balanced landscape of both practical and for-fun apps. Now we'd like to get an idea about the kind of apps that have most users."
   ]
  },
  {
   "cell_type": "markdown",
   "id": "ee783fe8-eddd-4baa-94d3-cda778f3c091",
   "metadata": {},
   "source": [
    "## Most Popular Apps by Genre on the App Store"
   ]
  },
  {
   "cell_type": "markdown",
   "id": "165fa9df-0323-4e36-aabd-4a3fdf78440c",
   "metadata": {},
   "source": [
    "One way to find out what genres are the most popular (have the most users) is to calculate the average number of installs for each app genre. For the Google Play data set, we can find this information in the `Installs` column, but for the App Store data set this information is missing. As a workaround, we'll take the total number of user ratings as a proxy, which we can find in the `rating_count_tot` column.\n",
    "\n",
    "Below, we calculate the average number of user ratings per app genre in the App Store:"
   ]
  },
  {
   "cell_type": "code",
   "execution_count": 32,
   "id": "1d647ff1-1a99-4e63-abd4-d678b541cc39",
   "metadata": {},
   "outputs": [
    {
     "name": "stdout",
     "output_type": "stream",
     "text": [
      "Average number of reviews per genre: \n",
      "\n",
      "Navigation: 86090.333\n",
      "Reference: 79350.471\n",
      "Social Networking: 71548.349\n",
      "Music: 57326.53\n",
      "Weather: 52279.893\n",
      "Book: 46384.917\n",
      "Food & Drink: 33333.923\n",
      "Finance: 32367.029\n",
      "Photo & Video: 28441.544\n",
      "Travel: 28243.8\n",
      "Shopping: 27230.735\n",
      "Health & Fitness: 23298.015\n",
      "Sports: 23008.899\n",
      "Games: 22886.367\n",
      "News: 21248.023\n",
      "Productivity: 21028.411\n",
      "Utilities: 19156.494\n",
      "Lifestyle: 16815.48\n",
      "Entertainment: 14195.359\n",
      "Business: 7491.118\n",
      "Education: 7003.983\n",
      "Catalogs: 4004.0\n",
      "Medical: 612.0\n"
     ]
    }
   ],
   "source": [
    "genre_idx = ios_header.index('prime_genre')\n",
    "prime_genre_freq = freq_table(free_ios, genre_idx)\n",
    "\n",
    "genre_list = []\n",
    "for genre in prime_genre_freq:\n",
    "    total = 0\n",
    "    len_genre = 0\n",
    "    for app in free_ios:\n",
    "        if app[genre_idx] == genre:\n",
    "            total += float(app[ios_header.index('rating_count_tot')])\n",
    "            len_genre += 1\n",
    "\n",
    "    genre_list.append((genre, round(total / len_genre, 3)))\n",
    "\n",
    "genre_list.sort(key=lambda genre: genre[1], reverse=True)\n",
    "print('Average number of reviews per genre: \\n')\n",
    "for genre in genre_list:\n",
    "    print(f'{genre[0]}: {genre[1]}')"
   ]
  },
  {
   "cell_type": "markdown",
   "id": "540572dc-531c-4536-86b7-d9bb4ac693ce",
   "metadata": {},
   "source": [
    "On average, navigation apps have the highest number of user reviews, but this figure is heavily influenced by Waze and Google Maps, which have close to half a million user reviews."
   ]
  },
  {
   "cell_type": "code",
   "execution_count": 29,
   "id": "ea80c066-0811-4818-b85a-f1fa9cbcdcd5",
   "metadata": {},
   "outputs": [
    {
     "name": "stdout",
     "output_type": "stream",
     "text": [
      "Waze - GPS Navigation, Maps & Real-time Traffic : 345046\n",
      "Google Maps - Navigation & Transit : 154911\n",
      "Geocaching® : 12811\n",
      "CoPilot GPS – Car Navigation & Offline Maps : 3582\n",
      "ImmobilienScout24: Real Estate Search in Germany : 187\n",
      "Railway Route Search : 5\n"
     ]
    }
   ],
   "source": [
    "for app in free_ios:\n",
    "    if app[-5] == 'Navigation':\n",
    "        print(app[1], ':', app[5]) # print name and number of ratings"
   ]
  },
  {
   "cell_type": "markdown",
   "id": "219ef7ef-2ff0-494e-afac-c1a77bc0a938",
   "metadata": {},
   "source": [
    "The same pattern applies to social networking apps, where the average number is heavily influenced by a few giants like Facebook, Pinterest, Skype, etc. Same applies to music apps, where a few big players like Pandora, Spotify, and Shazam heavily influence the average number.\n",
    "\n",
    "Our aim is to find popular genres, but navigation, social networking, and music seem more popular than they actually are. A few big names dominate the space, and a new app would have a very difficult time breaking into any of those markets. We could get a better picture by removing individual apps whose review counts are significantly higher than the average and running the analysis again, but that is a level of detail we can get to later.\n",
    "\n",
    "Reference apps have 79350 user ratings on average, but it's actually the Bible and Dictionary.com which skew up the average rating:"
   ]
  },
  {
   "cell_type": "code",
   "execution_count": 30,
   "id": "32c113ce-3ec0-43d2-811b-5209f672cf93",
   "metadata": {},
   "outputs": [
    {
     "name": "stdout",
     "output_type": "stream",
     "text": [
      "Bible: 985920\n",
      "Dictionary.com Dictionary & Thesaurus: 200047\n",
      "Dictionary.com Dictionary & Thesaurus for iPad: 54175\n",
      "Google Translate: 26786\n",
      "Muslim Pro: Ramadan 2017 Prayer Times, Azan, Quran: 18418\n",
      "New Furniture Mods - Pocket Wiki & Game Tools for Minecraft PC Edition: 17588\n",
      "Merriam-Webster Dictionary: 16849\n",
      "Night Sky: 12122\n",
      "City Maps for Minecraft PE - The Best Maps for Minecraft Pocket Edition (MCPE): 8535\n",
      "LUCKY BLOCK MOD ™ for Minecraft PC Edition - The Best Pocket Wiki & Mods Installer Tools: 4693\n",
      "GUNS MODS for Minecraft PC Edition - Mods Tools: 1497\n",
      "Guides for Pokémon GO - Pokemon GO News and Cheats: 826\n",
      "WWDC: 762\n",
      "Horror Maps for Minecraft PE - Download The Scariest Maps for Minecraft Pocket Edition (MCPE) Free: 718\n",
      "VPN Express: 14\n",
      "Real Bike Traffic Rider Virtual Reality Glasses: 8\n",
      "教えて!goo: 0\n",
      "Jishokun-Japanese English Dictionary & Translator: 0\n"
     ]
    }
   ],
   "source": [
    "for app in free_ios:\n",
    "    if app[-5] == 'Reference':\n",
    "        print(f'{app[1]}: {app[5]}')"
   ]
  },
  {
   "cell_type": "markdown",
   "id": "49e6ce76-808d-4bb4-b0ac-1412cd84af8f",
   "metadata": {},
   "source": [
    "However, this niche shows some potential. One thing we could do is take another popular book and turn it into an app where we could add different features besides the raw version of the book. This might include daily quotes from the book, an audio version of the book, quizzes about the book, etc. On top of that, we could embed a dictionary within the app so users don't need to exit our app to look up words.\n",
    "\n",
    "This idea seems to fit well within the fact that the App Store is dominated by for-fun apps. This suggests the market might be a bit saturated with for-fun apps, which means a practical app might have more of a chance to stand out among the huge number of apps on the App Store.\n",
    "\n",
    "Other genres that seem popular include weather, book, food and drink, or finance. The book genre seems to overlap a bit with the app idea we described above, but the other genres don't seem too interesting to us:\n",
    "* Weather apps: people generally don't spend too much time in-app, and the chances of making profit from in-app adds are low. Also, getting reliable live weather data may require us to connect our apps to non-free APIs.\n",
    "* Food and drink: examples here include Starbucks, Dunkin' Donuts, McDonald's, etc., i.e. apps attached to food brands that already exist. This would require actual cooking and delivery service, which is outside the scope of our company.\n",
    "* Finance apps: these apps involve banking, paying bills, money transfers, etc. Building a finance app requires domain knowledge, and we don't want to hire a finance expert just to build an app.\n",
    "\n",
    "Now let's analyze the Google Play market a bit."
   ]
  },
  {
   "cell_type": "markdown",
   "id": "d0706f43-d70b-40f1-9458-3989acfb29f7",
   "metadata": {},
   "source": [
    "## Most Popular Apps by Genre on Google Play"
   ]
  },
  {
   "cell_type": "markdown",
   "id": "995f637e-50e3-4063-b31e-e1bc7b3f25c6",
   "metadata": {},
   "source": [
    "Unlike the App Store data set, the Google Play data set is a bit more loose with its data. Instead of an exact number of downloads, Google Play gives a size bucket for the number of downloads as we can see here:"
   ]
  },
  {
   "cell_type": "code",
   "execution_count": 32,
   "id": "5bdd2cce-0347-45cc-91af-9d83bb262710",
   "metadata": {},
   "outputs": [
    {
     "name": "stdout",
     "output_type": "stream",
     "text": [
      "1,000,000+ : 15.726534296028879\n",
      "100,000+ : 11.552346570397113\n",
      "10,000,000+ : 10.548285198555957\n",
      "10,000+ : 10.198555956678701\n",
      "1,000+ : 8.393501805054152\n",
      "100+ : 6.915613718411552\n",
      "5,000,000+ : 6.825361010830325\n",
      "500,000+ : 5.561823104693141\n",
      "50,000+ : 4.7721119133574\n",
      "5,000+ : 4.512635379061372\n",
      "10+ : 3.5424187725631766\n",
      "500+ : 3.2490974729241873\n",
      "50,000,000+ : 2.3014440433213\n",
      "100,000,000+ : 2.1322202166064983\n",
      "50+ : 1.917870036101083\n",
      "5+ : 0.78971119133574\n",
      "1+ : 0.5076714801444043\n",
      "500,000,000+ : 0.2707581227436823\n",
      "1,000,000,000+ : 0.22563176895306858\n",
      "0+ : 0.04512635379061372\n",
      "0 : 0.01128158844765343\n"
     ]
    }
   ],
   "source": [
    "display_table(free_google, 5)"
   ]
  },
  {
   "cell_type": "markdown",
   "id": "a5d79d8a-197f-441f-9106-dabc44c420d2",
   "metadata": {},
   "source": [
    "We can still perform analysis on the set, it will just be a bit less precise than if we had the exact numbers. We will use the size of the bucket for each app's download count. So all apps in the 10+ category will be treated as if they have 10 downloads, all apps in the 1,000+ category will be treated as if they have 1,000 downloads, etc. This will be enough information to give us the broad patterns that we're looking for.\n",
    "\n",
    "We perform similar analysis as above, with the additional step of stripping the + sign from the data so that we can treat it as a number."
   ]
  },
  {
   "cell_type": "code",
   "execution_count": 38,
   "id": "80f64875-02c1-4926-9bcc-3189a3403d4f",
   "metadata": {},
   "outputs": [
    {
     "name": "stdout",
     "output_type": "stream",
     "text": [
      "Average number of reviews per genre: \n",
      "\n",
      "COMMUNICATION: 38456119.167\n",
      "VIDEO_PLAYERS: 24727872.453\n",
      "SOCIAL: 23253652.127\n",
      "PHOTOGRAPHY: 17840110.402\n",
      "PRODUCTIVITY: 16787331.345\n",
      "GAME: 15594505.749\n",
      "TRAVEL_AND_LOCAL: 13984077.71\n",
      "ENTERTAINMENT: 11719761.905\n",
      "TOOLS: 10801391.299\n",
      "NEWS_AND_MAGAZINES: 9549178.468\n",
      "BOOKS_AND_REFERENCE: 8767811.895\n",
      "SHOPPING: 7036877.312\n",
      "PERSONALIZATION: 5201482.612\n",
      "WEATHER: 5074486.197\n",
      "HEALTH_AND_FITNESS: 4188821.985\n",
      "MAPS_AND_NAVIGATION: 4056941.774\n",
      "FAMILY: 3698568.011\n",
      "SPORTS: 3638640.143\n",
      "ART_AND_DESIGN: 1986335.088\n",
      "FOOD_AND_DRINK: 1924897.736\n",
      "EDUCATION: 1841666.667\n",
      "BUSINESS: 1712290.147\n",
      "LIFESTYLE: 1437816.269\n",
      "FINANCE: 1387692.476\n",
      "HOUSE_AND_HOME: 1331540.562\n",
      "DATING: 854028.83\n",
      "COMICS: 817657.273\n",
      "AUTO_AND_VEHICLES: 647317.817\n",
      "LIBRARIES_AND_DEMO: 638503.735\n",
      "PARENTING: 542603.621\n",
      "BEAUTY: 513151.887\n",
      "EVENTS: 253542.222\n",
      "MEDICAL: 120550.62\n"
     ]
    }
   ],
   "source": [
    "category_idx = google_header.index('Category')\n",
    "reviews_freq = freq_table(free_google, category_idx)\n",
    "\n",
    "genre_list = []\n",
    "for category in reviews_freq:\n",
    "    total = 0\n",
    "    len_category = 0\n",
    "    for app in free_google:\n",
    "        if app[category_idx] == category:\n",
    "            download_count = app[google_header.index('Installs')].strip('+').replace(',', '')\n",
    "            total += float(download_count)\n",
    "            len_category += 1\n",
    "\n",
    "    genre_list.append((category, round(total / len_category, 3)))\n",
    "\n",
    "genre_list.sort(key=lambda category: category[1], reverse=True)\n",
    "print('Average number of reviews per genre: \\n')\n",
    "for genre in genre_list:\n",
    "    print(f'{genre[0]}: {genre[1]}')"
   ]
  },
  {
   "cell_type": "markdown",
   "id": "fb90c354-d07f-46e1-9589-9cec795f8963",
   "metadata": {},
   "source": [
    "Much like with the App Store, communication apps are close to the top. Also like the App Store, they are at the top because of a short list of incredibly popular apps. If we just look at communication apps that have over 500 million downloads, we get the following list:"
   ]
  },
  {
   "cell_type": "code",
   "execution_count": 49,
   "id": "1f84de77-841b-4cb5-98a1-36d4221f6085",
   "metadata": {},
   "outputs": [
    {
     "name": "stdout",
     "output_type": "stream",
     "text": [
      "Viber Messenger : 500,000,000+\n",
      "Messenger – Text and Video Chat for Free : 1,000,000,000+\n",
      "UC Browser - Fast Download Private & Secure : 500,000,000+\n",
      "Google Duo - High Quality Video Calls : 500,000,000+\n",
      "LINE: Free Calls & Messages : 500,000,000+\n",
      "Google Chrome: Fast & Secure : 1,000,000,000+\n",
      "WhatsApp Messenger : 1,000,000,000+\n",
      "Skype - free IM & video calls : 1,000,000,000+\n",
      "Gmail : 1,000,000,000+\n",
      "Hangouts : 1,000,000,000+\n",
      "imo free video calls and chat : 500,000,000+\n"
     ]
    }
   ],
   "source": [
    "for app in free_google:\n",
    "    if app[1] == 'COMMUNICATION' and (app[5] == '1,000,000,000+'\n",
    "                                      or app[5] == '500,000,000+'):\n",
    "        print(app[0], ':', app[5])"
   ]
  },
  {
   "cell_type": "markdown",
   "id": "bf37b149-daad-4a52-9c34-e6311303f158",
   "metadata": {},
   "source": [
    "Apps like these skew the numbers in a way that obfuscates the information we want to find. Having a single app with over 100 million downloads can make a genre of app seem much more popular than it actually is when in many cases it isn't the genre so much as a select list of specific apps that are popular. If that is the case, then we would have nothing to gain trying to develop an app for that genre.\n",
    "\n",
    "What would benefit us the most for our analysis is excluding any apps that get over 100 million downloads, so we only consider categories where small apps have a chance to make break into the market. We can do that for all of the categories and get a fresh list that is more useful to us."
   ]
  },
  {
   "cell_type": "code",
   "execution_count": 51,
   "id": "56279aed-b6b8-46dd-b0d7-277b0ce12803",
   "metadata": {},
   "outputs": [
    {
     "name": "stdout",
     "output_type": "stream",
     "text": [
      "Average number of reviews per genre for apps with less than 100,000,000 downlaods: \n",
      "\n",
      "PHOTOGRAPHY: 7670532.293\n",
      "GAME: 6267917.02\n",
      "ENTERTAINMENT: 6132405.063\n",
      "VIDEO_PLAYERS: 5544878.133\n",
      "WEATHER: 5074486.197\n",
      "SHOPPING: 4640920.541\n",
      "COMMUNICATION: 3603485.388\n",
      "PRODUCTIVITY: 3379657.319\n",
      "TOOLS: 3191461.129\n",
      "SOCIAL: 3084582.52\n",
      "SPORTS: 2994082.552\n",
      "TRAVEL_AND_LOCAL: 2944079.634\n",
      "PERSONALIZATION: 2549775.832\n",
      "MAPS_AND_NAVIGATION: 2484104.754\n",
      "FAMILY: 2348285.7\n",
      "HEALTH_AND_FITNESS: 2005713.661\n",
      "ART_AND_DESIGN: 1986335.088\n",
      "FOOD_AND_DRINK: 1924897.736\n",
      "EDUCATION: 1841666.667\n",
      "NEWS_AND_MAGAZINES: 1502841.878\n",
      "BOOKS_AND_REFERENCE: 1437212.216\n",
      "HOUSE_AND_HOME: 1331540.562\n",
      "BUSINESS: 1226918.741\n",
      "LIFESTYLE: 1152128.78\n",
      "FINANCE: 1086125.786\n",
      "DATING: 854028.83\n",
      "COMICS: 817657.273\n",
      "AUTO_AND_VEHICLES: 647317.817\n",
      "LIBRARIES_AND_DEMO: 638503.735\n",
      "PARENTING: 542603.621\n",
      "BEAUTY: 513151.887\n",
      "EVENTS: 253542.222\n",
      "MEDICAL: 120550.62\n"
     ]
    }
   ],
   "source": [
    "category_idx = google_header.index('Category')\n",
    "reviews_freq = freq_table(free_google, category_idx)\n",
    "\n",
    "genre_list = []\n",
    "for category in reviews_freq:\n",
    "    total = 0\n",
    "    len_category = 0\n",
    "    for app in free_google:\n",
    "        if app[category_idx] == category:\n",
    "            download_count = app[google_header.index('Installs')].strip('+').replace(',', '')\n",
    "            if float(download_count) >= 100000000:\n",
    "                continue\n",
    "            total += float(download_count)\n",
    "            len_category += 1\n",
    "\n",
    "    genre_list.append((category, round(total / len_category, 3)))\n",
    "\n",
    "genre_list.sort(key=lambda category: category[1], reverse=True)\n",
    "print('Average number of reviews per genre for apps with less than 100,000,000 downlaods: \\n')\n",
    "for genre in genre_list:\n",
    "    print(f'{genre[0]}: {genre[1]}')"
   ]
  },
  {
   "cell_type": "markdown",
   "id": "9599b096-1bf0-4c7f-ab9d-363c2120dd6e",
   "metadata": {},
   "source": [
    "Without the massive apps, the average has dropped quite a bit for a few categories. Communication is reduced by a factor of 10, from 38 million to 3.8 million. Similarly, video players is reduced by a factor of 5. Likely because of apps like YouTube and Google Play Movies & TV.\n",
    "\n",
    "The game category seems popular, but, as we found when exploring the App Store data, the market for mobile games seems a bit saturated, so we'd like to come up with a different plan if possible.\n",
    "\n",
    "The books and reference category still looks fairly popular, sitting right in the middle of the list after excluding all of the massive apps. The smaller apps still average over a million downloads. It's interesting to explore this data in more depth, because we found this genre has some potential to work well on the App Store, and our aim is to recommend an app genre that shows potential for being profitable on both the App Store and Google Play.\n",
    "\n",
    "Let's take a look at some of the apps from this category and their number of installs:"
   ]
  },
  {
   "cell_type": "code",
   "execution_count": 53,
   "id": "9dc40b75-8c3e-47ac-894d-2bd9882938e0",
   "metadata": {},
   "outputs": [
    {
     "name": "stdout",
     "output_type": "stream",
     "text": [
      "E-Book Read - Read Book for free : 50,000+\n",
      "Download free book with green book : 100,000+\n",
      "Wikipedia : 10,000,000+\n",
      "Cool Reader : 10,000,000+\n",
      "Free Panda Radio Music : 100,000+\n",
      "Book store : 1,000,000+\n",
      "FBReader: Favorite Book Reader : 10,000,000+\n",
      "English Grammar Complete Handbook : 500,000+\n",
      "Free Books - Spirit Fanfiction and Stories : 1,000,000+\n",
      "AlReader -any text book reader : 5,000,000+\n",
      "Offline English Dictionary : 100,000+\n",
      "Offline: English to Tagalog Dictionary : 500,000+\n",
      "FamilySearch Tree : 1,000,000+\n",
      "Cloud of Books : 1,000,000+\n",
      "Recipes of Prophetic Medicine for free : 500,000+\n",
      "ReadEra – free ebook reader : 1,000,000+\n",
      "Anonymous caller detection : 10,000+\n",
      "Litnet - E-books : 100,000+\n",
      "Read books online : 5,000,000+\n",
      "English to Urdu Dictionary : 500,000+\n",
      "eBoox: book reader fb2 epub zip : 1,000,000+\n",
      "English Persian Dictionary : 500,000+\n",
      "Flybook : 500,000+\n",
      "All Maths Formulas : 1,000,000+\n",
      "Ancestry : 5,000,000+\n",
      "HTC Help : 10,000,000+\n",
      "English translation from Bengali : 100,000+\n",
      "Pdf Book Download - Read Pdf Book : 100,000+\n",
      "Free Book Reader : 100,000+\n",
      "eBoox new: Reader for fb2 epub zip books : 50,000+\n",
      "Only 30 days in English, the guideline is guaranteed : 500,000+\n",
      "Moon+ Reader : 10,000,000+\n",
      "SH-02J Owner's Manual (Android 8.0) : 50,000+\n",
      "English-Myanmar Dictionary : 1,000,000+\n",
      "Golden Dictionary (EN-AR) : 1,000,000+\n",
      "All Language Translator Free : 1,000,000+\n",
      "Azpen eReader : 500,000+\n",
      "URBANO V 02 instruction manual : 100,000+\n",
      "Bible : 100,000,000+\n",
      "C Programs and Reference : 50,000+\n",
      "C Offline Tutorial : 1,000+\n",
      "C Programs Handbook : 50,000+\n",
      "Aab e Hayat Full Novel : 100,000+\n",
      "Aldiko Book Reader : 10,000,000+\n",
      "Google I/O 2018 : 500,000+\n",
      "R Language Reference Guide : 10,000+\n",
      "Learn R Programming Full : 5,000+\n",
      "R Programing Offline Tutorial : 1,000+\n",
      "Guide for R Programming : 5+\n",
      "Learn R Programming : 10+\n",
      "R Quick Reference Big Data : 1,000+\n",
      "V Made : 100,000+\n",
      "Dictionary - WordWeb : 5,000,000+\n",
      "Guide (for X-MEN) : 100,000+\n",
      "AC Air condition Troubleshoot,Repair,Maintenance : 5,000+\n",
      "AE Bulletins : 1,000+\n",
      "Ae Allah na Dai (Rasa) : 10,000+\n",
      "50000 Free eBooks & Free AudioBooks : 5,000,000+\n",
      "Ag PhD Field Guide : 10,000+\n",
      "Ag PhD Deficiencies : 10,000+\n",
      "Ag PhD Planting Population Calculator : 1,000+\n",
      "Ag PhD Soybean Diseases : 1,000+\n",
      "Fertilizer Removal By Crop : 50,000+\n",
      "A-J Media Vault : 50+\n",
      "Al-Quran (Free) : 10,000,000+\n",
      "Al Quran (Tafsir & by Word) : 500,000+\n",
      "Al Quran Indonesia : 10,000,000+\n",
      "Al'Quran Bahasa Indonesia : 10,000,000+\n",
      "Al Quran Al karim : 1,000,000+\n",
      "Al-Muhaffiz : 50,000+\n",
      "Al Quran : EAlim - Translations & MP3 Offline : 5,000,000+\n",
      "Al-Quran 30 Juz free copies : 500,000+\n",
      "Koran Read &MP3 30 Juz Offline : 1,000,000+\n",
      "Hafizi Quran 15 lines per page : 1,000,000+\n",
      "Quran for Android : 10,000,000+\n",
      "Surah Al-Waqiah : 100,000+\n",
      "Hisnul Al Muslim - Hisn Invocations & Adhkaar : 100,000+\n",
      "Satellite AR : 1,000,000+\n",
      "Audiobooks from Audible : 100,000,000+\n",
      "Kinot & Eichah for Tisha B'Av : 10,000+\n",
      "AW Tozer Devotionals - Daily : 5,000+\n",
      "Tozer Devotional -Series 1 : 1,000+\n",
      "The Pursuit of God : 1,000+\n",
      "AY Sing : 5,000+\n",
      "Ay Hasnain k Nana Milad Naat : 10,000+\n",
      "Ay Mohabbat Teri Khatir Novel : 10,000+\n",
      "Arizona Statutes, ARS (AZ Law) : 1,000+\n",
      "Oxford A-Z of English Usage : 1,000,000+\n",
      "BD Fishpedia : 1,000+\n",
      "BD All Sim Offer : 10,000+\n",
      "Youboox - Livres, BD et magazines : 500,000+\n",
      "B&H Kids AR : 10,000+\n",
      "B y H Niños ES : 5,000+\n",
      "Dictionary.com: Find Definitions for English Words : 10,000,000+\n",
      "Bible KJV : 5,000,000+\n",
      "Borneo Bible, BM Bible : 10,000+\n",
      "MOD Black for BM : 100+\n",
      "BM Box : 1,000+\n",
      "Anime Mod for BM : 100+\n",
      "NOOK Audiobooks : 500,000+\n",
      "Browsery by Barnes & Noble : 5,000+\n",
      "bp e-store : 1,000+\n",
      "Brilliant Quotes: Life, Love, Family & Motivation : 1,000,000+\n",
      "BR Ambedkar Biography & Quotes : 10,000+\n",
      "BU Alsace : 100+\n",
      "Catholic La Bu Zo Kam : 500+\n",
      "Khrifa Hla Bu (Solfa) : 10+\n",
      "Kristian Hla Bu : 10,000+\n",
      "SA HLA BU : 1,000+\n",
      "Learn SAP BW : 500+\n",
      "Learn SAP BW on HANA : 500+\n",
      "CA Laws 2018 (California Laws and Codes) : 5,000+\n",
      "Bootable Methods(USB-CD-DVD) : 10,000+\n",
      "cloudLibrary : 100,000+\n",
      "SDA Collegiate Quarterly : 500+\n",
      "Sabbath School : 100,000+\n",
      "Cypress College Library : 100+\n",
      "Stats Royale for Clash Royale : 1,000,000+\n",
      "GATE 21 years CS Papers(2011-2018 Solved) : 50+\n",
      "Learn CT Scan Of Head : 5,000+\n",
      "Easy Cv maker 2018 : 10,000+\n",
      "How to Write CV : 100,000+\n",
      "CW Nuclear : 1,000+\n",
      "CY Spray nozzle : 10+\n",
      "BibleRead En Cy Zh Yue : 5+\n",
      "CZ-Help : 5+\n",
      "Modlitební knížka CZ : 500+\n",
      "Guide for DB Xenoverse : 10,000+\n",
      "Guide for DB Xenoverse 2 : 10,000+\n",
      "Guide for IMS DB : 10+\n",
      "DC HSEMA : 5,000+\n",
      "DC Public Library : 1,000+\n",
      "Painting Lulu DC Super Friends : 1,000+\n",
      "Dictionary : 10,000,000+\n",
      "Fix Error Google Playstore : 1,000+\n",
      "D. H. Lawrence Poems FREE : 1,000+\n",
      "Bilingual Dictionary Audio App : 5,000+\n",
      "DM Screen : 10,000+\n",
      "wikiHow: how to do anything : 1,000,000+\n",
      "Dr. Doug's Tips : 1,000+\n",
      "Bible du Semeur-BDS (French) : 50,000+\n",
      "La citadelle du musulman : 50,000+\n",
      "DV 2019 Entry Guide : 10,000+\n",
      "DV 2019 - EDV Photo & Form : 50,000+\n",
      "DV 2018 Winners Guide : 1,000+\n",
      "EB Annual Meetings : 1,000+\n",
      "EC - AP & Telangana : 5,000+\n",
      "TN Patta Citta & EC : 10,000+\n",
      "AP Stamps and Registration : 10,000+\n",
      "CompactiMa EC pH Calibration : 100+\n",
      "EGW Writings 2 : 100,000+\n",
      "EGW Writings : 1,000,000+\n",
      "Bible with EGW Comments : 100,000+\n",
      "My Little Pony AR Guide : 1,000,000+\n",
      "SDA Sabbath School Quarterly : 500,000+\n",
      "Duaa Ek Ibaadat : 5,000+\n",
      "JW Library : 10,000,000+\n",
      "English Hindi Dictionary : 10,000,000+\n",
      "English to Hindi Dictionary : 5,000,000+\n",
      "EP Research Service : 1,000+\n",
      "Hymnes et Louanges : 100,000+\n",
      "EU Charter : 1,000+\n",
      "EU Data Protection : 1,000+\n",
      "EU IP Codes : 100+\n",
      "EW PDF : 5+\n",
      "BakaReader EX : 100,000+\n",
      "EZ Quran : 50,000+\n",
      "FA Part 1 & 2 Past Papers Solved Free – Offline : 5,000+\n",
      "La Fe de Jesus : 1,000+\n",
      "La Fe de Jesús : 500+\n",
      "Le Fe de Jesus : 500+\n",
      "Florida - Pocket Brainbook : 1,000+\n",
      "Florida Statutes (FL Code) : 1,000+\n",
      "English To Shona Dictionary : 10,000+\n",
      "Greek Bible FP (Audio) : 1,000+\n",
      "Golden Dictionary (FR-AR) : 500,000+\n",
      "Fanfic-FR : 5,000+\n",
      "Bulgarian French Dictionary Fr : 10,000+\n",
      "Chemin (fr) : 1,000+\n",
      "The SCP Foundation DB fr nn5n : 1,000+\n",
      "Spanish English Translator : 10,000,000+\n",
      "NOOK App for NOOK Devices : 500,000+\n",
      "NOOK: Read eBooks & Magazines : 10,000,000+\n",
      "Ebook Reader : 5,000,000+\n",
      "English Dictionary - Offline : 10,000,000+\n",
      "Dictionary - Merriam-Webster : 10,000,000+\n",
      "Oxford Dictionary of English : Free : 10,000,000+\n",
      "Amazon Kindle : 100,000,000+\n",
      "Wattpad 📖 Free Books : 100,000,000+\n"
     ]
    }
   ],
   "source": [
    "for app in free_google:\n",
    "    if app[1] == 'BOOKS_AND_REFERENCE' and app[5] not in ['1,000,000,000+', '500,000,000+']:\n",
    "        print(app[0], ':', app[5])"
   ]
  },
  {
   "cell_type": "markdown",
   "id": "76fb12be-e8dc-4929-806e-cbc1fdd5855c",
   "metadata": {},
   "source": [
    "The books and reference category has a number of different apps: software for processing and reading ebooks, various collections of libraries, dictionaries, tutorials on programming or languages, etc. There are still a few very popular books that skew the data:"
   ]
  },
  {
   "cell_type": "code",
   "execution_count": 54,
   "id": "143bda13-5c05-4dac-968b-c06e557e16db",
   "metadata": {},
   "outputs": [
    {
     "name": "stdout",
     "output_type": "stream",
     "text": [
      "Google Play Books : 1,000,000,000+\n",
      "Bible : 100,000,000+\n",
      "Audiobooks from Audible : 100,000,000+\n",
      "Amazon Kindle : 100,000,000+\n",
      "Wattpad 📖 Free Books : 100,000,000+\n"
     ]
    }
   ],
   "source": [
    "for app in free_google:\n",
    "    if app[1] == 'BOOKS_AND_REFERENCE' and app[5] in ['1,000,000,000+', '500,000,000+','100,000,000+']:\n",
    "        print(app[0], ':', app[5])"
   ]
  },
  {
   "cell_type": "markdown",
   "id": "ae582d85-0036-4e7e-ac89-817ccc984cf3",
   "metadata": {},
   "source": [
    "However, it looks like there are only a few of them, so this market still shows some potential. Let's try to get some app ideas based on the kind of apps that are somewhere in the middle in terms of popularity (between 1,000,000 and 100,000,000 downloads):"
   ]
  },
  {
   "cell_type": "code",
   "execution_count": 55,
   "id": "d7ace1ce-e87c-4172-a3b4-6c39590ca3f7",
   "metadata": {},
   "outputs": [
    {
     "name": "stdout",
     "output_type": "stream",
     "text": [
      "Wikipedia : 10,000,000+\n",
      "Cool Reader : 10,000,000+\n",
      "Book store : 1,000,000+\n",
      "FBReader: Favorite Book Reader : 10,000,000+\n",
      "Free Books - Spirit Fanfiction and Stories : 1,000,000+\n",
      "AlReader -any text book reader : 5,000,000+\n",
      "FamilySearch Tree : 1,000,000+\n",
      "Cloud of Books : 1,000,000+\n",
      "ReadEra – free ebook reader : 1,000,000+\n",
      "Read books online : 5,000,000+\n",
      "eBoox: book reader fb2 epub zip : 1,000,000+\n",
      "All Maths Formulas : 1,000,000+\n",
      "Ancestry : 5,000,000+\n",
      "HTC Help : 10,000,000+\n",
      "Moon+ Reader : 10,000,000+\n",
      "English-Myanmar Dictionary : 1,000,000+\n",
      "Golden Dictionary (EN-AR) : 1,000,000+\n",
      "All Language Translator Free : 1,000,000+\n",
      "Bible : 100,000,000+\n",
      "Aldiko Book Reader : 10,000,000+\n",
      "Dictionary - WordWeb : 5,000,000+\n",
      "50000 Free eBooks & Free AudioBooks : 5,000,000+\n",
      "Al-Quran (Free) : 10,000,000+\n",
      "Al Quran Indonesia : 10,000,000+\n",
      "Al'Quran Bahasa Indonesia : 10,000,000+\n",
      "Al Quran Al karim : 1,000,000+\n",
      "Al Quran : EAlim - Translations & MP3 Offline : 5,000,000+\n",
      "Koran Read &MP3 30 Juz Offline : 1,000,000+\n",
      "Hafizi Quran 15 lines per page : 1,000,000+\n",
      "Quran for Android : 10,000,000+\n",
      "Satellite AR : 1,000,000+\n",
      "Audiobooks from Audible : 100,000,000+\n",
      "Oxford A-Z of English Usage : 1,000,000+\n",
      "Dictionary.com: Find Definitions for English Words : 10,000,000+\n",
      "Bible KJV : 5,000,000+\n",
      "Brilliant Quotes: Life, Love, Family & Motivation : 1,000,000+\n",
      "Stats Royale for Clash Royale : 1,000,000+\n",
      "Dictionary : 10,000,000+\n",
      "wikiHow: how to do anything : 1,000,000+\n",
      "EGW Writings : 1,000,000+\n",
      "My Little Pony AR Guide : 1,000,000+\n",
      "JW Library : 10,000,000+\n",
      "English Hindi Dictionary : 10,000,000+\n",
      "English to Hindi Dictionary : 5,000,000+\n",
      "Spanish English Translator : 10,000,000+\n",
      "NOOK: Read eBooks & Magazines : 10,000,000+\n",
      "Ebook Reader : 5,000,000+\n",
      "English Dictionary - Offline : 10,000,000+\n",
      "Dictionary - Merriam-Webster : 10,000,000+\n",
      "Oxford Dictionary of English : Free : 10,000,000+\n",
      "Amazon Kindle : 100,000,000+\n",
      "Wattpad 📖 Free Books : 100,000,000+\n"
     ]
    }
   ],
   "source": [
    "for app in free_google:\n",
    "    if app[1] == 'BOOKS_AND_REFERENCE' and app[5] in ['1,000,000+',\n",
    "                                                      '5,000,000+',\n",
    "                                                      '10,000,000+',\n",
    "                                                      '50,000,000+',\n",
    "                                                      '100,000,000+']:\n",
    "        print(app[0], ':', app[5])"
   ]
  },
  {
   "cell_type": "markdown",
   "id": "d172084c-651c-4a6b-9b2c-a3ec5c4eefdf",
   "metadata": {},
   "source": [
    "This niche seems to be dominated by software for processing and reading ebooks, as well as various collections of libraries and dictionaries, so it's probably not a good idea to build similar apps since there will be some significant competition.\n",
    "\n",
    "We also notice that there are quite a few apps built around the Quran, which suggests that building an app around a popular book can be profitable. It seems that taking a popular book (perhaps a more recent book) and turning it into an app could be profitable for both the Google Play and the App Store markets.\n",
    "\n",
    "However, it looks like the market is already full of libraries, so we need to add some special features besides the raw version of the book. This might include daily quotes from the book, an audio version from the book, quizzes on the book, a forum where people can discuss the book, etc."
   ]
  },
  {
   "cell_type": "markdown",
   "id": "7b27fd53-e74c-4eff-8810-f22101582d35",
   "metadata": {},
   "source": [
    "## Conclusions"
   ]
  },
  {
   "cell_type": "markdown",
   "id": "0ef6a5fa-9616-4d79-b0e5-c4b866db4b2d",
   "metadata": {},
   "source": [
    "In this project we analyzed data about the App Store and Google Play mobile apps with the goal of recommending anj app that could potentially be profitable on for both markets.\n",
    "\n",
    "We concluded that taking a popular book and turning it into an app could be profitable for both the Google Play and the App Store markets. The markets are already full of libraries, so in order to garner attention we would need to add some additional features to draw users. Features such as daily quotes, quizzes, an audio version, or discussion forums."
   ]
  },
  {
   "cell_type": "code",
   "execution_count": null,
   "id": "c5cf1a72-ca84-49d6-976b-0aceab4041ea",
   "metadata": {},
   "outputs": [],
   "source": []
  }
 ],
 "metadata": {
  "kernelspec": {
   "display_name": "Python 3 (ipykernel)",
   "language": "python",
   "name": "python3"
  },
  "language_info": {
   "codemirror_mode": {
    "name": "ipython",
    "version": 3
   },
   "file_extension": ".py",
   "mimetype": "text/x-python",
   "name": "python",
   "nbconvert_exporter": "python",
   "pygments_lexer": "ipython3",
   "version": "3.11.4"
  }
 },
 "nbformat": 4,
 "nbformat_minor": 5
}
