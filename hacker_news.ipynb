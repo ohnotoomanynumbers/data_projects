{
 "cells": [
  {
   "cell_type": "markdown",
   "id": "ebcda75a-f5d1-4e27-9da7-5f899b3e1002",
   "metadata": {},
   "source": [
    "# Hacker News Project\n",
    "\n",
    "Hacker News is a website started by startup incubator Y Combinator, where user-submitted stories (known as \"posts\") receive votes and comments, similar to reddit. Hacker News is extremely popular in technology and startup circles, and posts that make it to the top of the Hacker News listings can get hundreds of thousands of visitors as a result.\n",
    "\n",
    "In this project we're interested in posts with titles that begin with either `Ask HN` or `Show HN`. Users submit `Ask HN` posts to ask the Hacker News community a specific question. Below are a few examples:\n",
    "\n",
    "```\n",
    "Ask HN: How to improve my personal website?\n",
    "Ask HN: Am I the only one outraged by Twitter shutting down share counts?\n",
    "Ask HN: Aby recent changes to CSS that broke mobile?\n",
    "```\n",
    "\n",
    "Likewise, users submit `Show HN` posts to show the Hacker News community a project, product, or just something interesting. Below are a few examples:\n",
    "\n",
    "```\n",
    "Show HN: Wio Link  ESP8266 Based Web of Things Hardware Development Platform'\n",
    "Show HN: Something pointless I made\n",
    "Show HN: Shanhu.io, a programming playground powered by e8vm\n",
    "```\n",
    "\n",
    "We'll compare these two types of posts to determine the following:\n",
    "\n",
    "- Do `Ask HN` or `Show HN` receive more comments on average?\n",
    "- Do posts created at a certain time receive more comments on average?\n",
    "\n",
    "We'll be working with a dataset that has been reduced from 300,000+ to around 20,000 rows by removing all submissions that didn't receive any comments and then randomly sampling from the remainder. The original dataset can be found [here](https://www.kaggle.com/datasets/hacker-news/hacker-news-posts), and the downsampled dataset that we'll be working with can be downloaded [here](https://dq-content.s3.amazonaws.com/356/hacker_news.csv)."
   ]
  },
  {
   "cell_type": "markdown",
   "id": "010e2cd7-02f0-4aef-be6f-3577466bbb9e",
   "metadata": {},
   "source": [
    "## Filtering the Data"
   ]
  },
  {
   "cell_type": "markdown",
   "id": "9a4e1fd4-9e95-453c-aa37-9ab2832bbbac",
   "metadata": {},
   "source": [
    "Let's begin by importing the dataset and checking the first several rows."
   ]
  },
  {
   "cell_type": "code",
   "execution_count": 1,
   "id": "e2eb5c11-ae16-4892-a5ce-480982db54c6",
   "metadata": {},
   "outputs": [
    {
     "name": "stdout",
     "output_type": "stream",
     "text": [
      "['id', 'title', 'url', 'num_points', 'num_comments', 'author', 'created_at']\n",
      "['12224879', 'Interactive Dynamic Video', 'http://www.interactivedynamicvideo.com/', '386', '52', 'ne0phyte', '8/4/2016 11:52']\n",
      "['10975351', 'How to Use Open Source and Shut the Fuck Up at the Same Time', 'http://hueniverse.com/2016/01/26/how-to-use-open-source-and-shut-the-fuck-up-at-the-same-time/', '39', '10', 'josep2', '1/26/2016 19:30']\n",
      "['11964716', \"Florida DJs May Face Felony for April Fools' Water Joke\", 'http://www.thewire.com/entertainment/2013/04/florida-djs-april-fools-water-joke/63798/', '2', '1', 'vezycash', '6/23/2016 22:20']\n",
      "['11919867', 'Technology ventures: From Idea to Enterprise', 'https://www.amazon.com/Technology-Ventures-Enterprise-Thomas-Byers/dp/0073523429', '3', '1', 'hswarna', '6/17/2016 0:01']\n"
     ]
    }
   ],
   "source": [
    "from csv import reader\n",
    "\n",
    "hacker_news = open('hacker_news.csv')\n",
    "hn = list(reader(hacker_news))\n",
    "\n",
    "for i in range(5):\n",
    "    print(hn[i])"
   ]
  },
  {
   "cell_type": "markdown",
   "id": "6cccb67a-4f25-4282-a32b-1e67385a95b1",
   "metadata": {},
   "source": [
    "Notice that the first row contains the header information for the dataset. In order to more easily analyze the data, it will be convenient to separate the header from the rest of the set."
   ]
  },
  {
   "cell_type": "code",
   "execution_count": 2,
   "id": "6bc729cc-6e3a-43d9-aedc-ab22c846213a",
   "metadata": {},
   "outputs": [
    {
     "name": "stdout",
     "output_type": "stream",
     "text": [
      "['id', 'title', 'url', 'num_points', 'num_comments', 'author', 'created_at'] \n",
      "\n",
      "['12224879', 'Interactive Dynamic Video', 'http://www.interactivedynamicvideo.com/', '386', '52', 'ne0phyte', '8/4/2016 11:52']\n",
      "['10975351', 'How to Use Open Source and Shut the Fuck Up at the Same Time', 'http://hueniverse.com/2016/01/26/how-to-use-open-source-and-shut-the-fuck-up-at-the-same-time/', '39', '10', 'josep2', '1/26/2016 19:30']\n",
      "['11964716', \"Florida DJs May Face Felony for April Fools' Water Joke\", 'http://www.thewire.com/entertainment/2013/04/florida-djs-april-fools-water-joke/63798/', '2', '1', 'vezycash', '6/23/2016 22:20']\n",
      "['11919867', 'Technology ventures: From Idea to Enterprise', 'https://www.amazon.com/Technology-Ventures-Enterprise-Thomas-Byers/dp/0073523429', '3', '1', 'hswarna', '6/17/2016 0:01']\n",
      "['10301696', 'Note by Note: The Making of Steinway L1037 (2007)', 'http://www.nytimes.com/2007/11/07/movies/07stein.html?_r=0', '8', '2', 'walterbell', '9/30/2015 4:12']\n"
     ]
    }
   ],
   "source": [
    "headers = hn[0]\n",
    "hn = hn[1:]\n",
    "\n",
    "print(headers, '\\n')\n",
    "for i in range(5):\n",
    "    print(hn[i])\n"
   ]
  },
  {
   "cell_type": "markdown",
   "id": "a1453575-a1a3-490b-9066-9c75e32eae2f",
   "metadata": {},
   "source": [
    "Now that we've separated the header from the rest of the dataset, we can begin filtering our data. For our purposes, we only care about post titles beginning with `Ask HN` or `Show HN`. In order to more easily parse the data, we will separate the dataset into three subsets: `ask_posts`, `show_posts`, and `other_posts`."
   ]
  },
  {
   "cell_type": "code",
   "execution_count": 3,
   "id": "b230c341-01db-427a-bb85-8fc41b97b106",
   "metadata": {},
   "outputs": [
    {
     "name": "stdout",
     "output_type": "stream",
     "text": [
      "Number of Ask Posts: 1744\n",
      "Number of Show Posts: 1162\n",
      "Number of Other Posts: 17194\n"
     ]
    }
   ],
   "source": [
    "ask_posts = []\n",
    "show_posts = []\n",
    "other_posts = []\n",
    "\n",
    "for row in hn:\n",
    "    title = row[1]\n",
    "    title = title.lower()\n",
    "    if title.startswith('ask hn'):\n",
    "        ask_posts.append(row)\n",
    "    elif title.startswith('show hn'):\n",
    "        show_posts.append(row)\n",
    "    else:\n",
    "        other_posts.append(row)\n",
    "\n",
    "print(f'Number of Ask Posts: {len(ask_posts)}')\n",
    "print(f'Number of Show Posts: {len(show_posts)}')\n",
    "print(f'Number of Other Posts: {len(other_posts)}')"
   ]
  },
  {
   "cell_type": "markdown",
   "id": "e273a660-ad63-4634-b6aa-da452190c2ee",
   "metadata": {},
   "source": [
    "We can see that Ask and Show posts make up about 17% of all posts in our dataset. Let's check the first few rows of each of our two relevant sets to ensure our filtering is correct."
   ]
  },
  {
   "cell_type": "code",
   "execution_count": 4,
   "id": "7c9092f0-d545-4334-88ed-46d0b5733629",
   "metadata": {},
   "outputs": [
    {
     "name": "stdout",
     "output_type": "stream",
     "text": [
      "['12296411', 'Ask HN: How to improve my personal website?', '', '2', '6', 'ahmedbaracat', '8/16/2016 9:55']\n",
      "['10610020', 'Ask HN: Am I the only one outraged by Twitter shutting down share counts?', '', '28', '29', 'tkfx', '11/22/2015 13:43']\n",
      "['11610310', 'Ask HN: Aby recent changes to CSS that broke mobile?', '', '1', '1', 'polskibus', '5/2/2016 10:14']\n",
      "['12210105', 'Ask HN: Looking for Employee #3 How do I do it?', '', '1', '3', 'sph130', '8/2/2016 14:20']\n",
      "['10394168', 'Ask HN: Someone offered to buy my browser extension from me. What now?', '', '28', '17', 'roykolak', '10/15/2015 16:38']\n",
      "\n",
      "\n",
      "['10627194', 'Show HN: Wio Link  ESP8266 Based Web of Things Hardware Development Platform', 'https://iot.seeed.cc', '26', '22', 'kfihihc', '11/25/2015 14:03']\n",
      "['10646440', 'Show HN: Something pointless I made', 'http://dn.ht/picklecat/', '747', '102', 'dhotson', '11/29/2015 22:46']\n",
      "['11590768', 'Show HN: Shanhu.io, a programming playground powered by e8vm', 'https://shanhu.io', '1', '1', 'h8liu', '4/28/2016 18:05']\n",
      "['12178806', 'Show HN: Webscope  Easy way for web developers to communicate with Clients', 'http://webscopeapp.com', '3', '3', 'fastbrick', '7/28/2016 7:11']\n",
      "['10872799', 'Show HN: GeoScreenshot  Easily test Geo-IP based web pages', 'https://www.geoscreenshot.com/', '1', '9', 'kpsychwave', '1/9/2016 20:45']\n"
     ]
    }
   ],
   "source": [
    "for i in range(5):\n",
    "    print(ask_posts[i])\n",
    "\n",
    "print('\\n')\n",
    "\n",
    "for i in range(5):\n",
    "    print(show_posts[i])"
   ]
  },
  {
   "cell_type": "markdown",
   "id": "bff4c5bc-66e5-405f-b849-f97e8659bd92",
   "metadata": {},
   "source": [
    "It looks like our filter worked properly. Now we can begin analyzing the data."
   ]
  },
  {
   "cell_type": "markdown",
   "id": "9ac9d7cd-92d6-482a-a34c-c1ca0aa07562",
   "metadata": {},
   "source": [
    "## Preliminary Analysis"
   ]
  },
  {
   "cell_type": "markdown",
   "id": "db3606d4-4a14-476b-ba62-f1b86ba31d47",
   "metadata": {},
   "source": [
    "A useful piece of information for our first pass is whether ask posts or show posts receive more comments. Let's calculate the average comments for each and compare."
   ]
  },
  {
   "cell_type": "code",
   "execution_count": 5,
   "id": "5ada7766-7ac1-4360-a9cb-6a0af35601d7",
   "metadata": {},
   "outputs": [
    {
     "name": "stdout",
     "output_type": "stream",
     "text": [
      "Average Ask Comments: 14.04\n",
      "Average Show Comments: 10.32\n"
     ]
    }
   ],
   "source": [
    "def find_average_comments(dataset):\n",
    "    total_comments = 0\n",
    "\n",
    "    for row in dataset:\n",
    "        comments = int(row[4])\n",
    "        total_comments += comments\n",
    "\n",
    "    average = total_comments / len(dataset)\n",
    "\n",
    "    return round(average, 2)\n",
    "\n",
    "avg_ask_comments = find_average_comments(ask_posts)\n",
    "avg_show_comments = find_average_comments(show_posts)\n",
    "\n",
    "print(f'Average Ask Comments: {avg_ask_comments}')\n",
    "print(f'Average Show Comments: {avg_show_comments}')"
   ]
  },
  {
   "cell_type": "markdown",
   "id": "9e2168e0-f373-4b91-a592-9e6a0032a222",
   "metadata": {},
   "source": [
    "It appears that ask posts receive 36% more comments than show posts. This makes sense, given that ask posts directly request interaction from the community. Show posts still receive a good amount of comments though, when they get any at all.\n",
    "\n",
    "We must remember that our dataset threw out any posts that didn't receive comments at all, which would affect things like the averages and the relative difference between the two types of post. For a more involved version of this project, we could use the full dataset and see how it compares to what we see here."
   ]
  },
  {
   "cell_type": "markdown",
   "id": "23812f6d-82de-402b-af1b-0a4b8d705208",
   "metadata": {},
   "source": [
    "## Comments by Hour Created"
   ]
  },
  {
   "cell_type": "markdown",
   "id": "5cd4c32b-a488-47fc-8810-0cc57aabc34c",
   "metadata": {},
   "source": [
    "Now that we have our data separated, we can do a little more digging. It is likely that the success of a post (measured by the amount of community interaction, i.e. comments) is affected by when it is posted.\n",
    "\n",
    "We want to know whether the timing of a post affects the interaction, so for each of the two datasets we will separate the day into 24 1-hour buckets. We will then count the number of posts in each bucket, and calculate the average number of comments.\n",
    "\n",
    "Given that Hacker News is heavily favored by the tech and startup communites, and that those communities are concentrated in California, I expect posts during the day in Pacific Time (UTC-8) to have the most success."
   ]
  },
  {
   "cell_type": "code",
   "execution_count": 6,
   "id": "8e08e578-a61b-471b-a6f9-dc7df4f19650",
   "metadata": {},
   "outputs": [
    {
     "name": "stdout",
     "output_type": "stream",
     "text": [
      "Average Comments per Hour (Ask Posts)\n",
      "\n",
      "00:00: 8.13\n",
      "01:00: 11.38\n",
      "02:00: 23.81\n",
      "03:00: 7.8\n",
      "04:00: 7.17\n",
      "05:00: 10.09\n",
      "06:00: 9.02\n",
      "07:00: 7.85\n",
      "08:00: 10.25\n",
      "09:00: 5.58\n",
      "10:00: 13.44\n",
      "11:00: 11.05\n",
      "12:00: 9.41\n",
      "13:00: 14.74\n",
      "14:00: 13.23\n",
      "15:00: 38.59\n",
      "16:00: 16.8\n",
      "17:00: 11.46\n",
      "18:00: 13.2\n",
      "19:00: 10.8\n",
      "20:00: 21.52\n",
      "21:00: 16.01\n",
      "22:00: 6.75\n",
      "23:00: 7.99\n",
      "\n",
      "Average Comments per Hour (Show Posts)\n",
      "\n",
      "00:00: 15.71\n",
      "01:00: 8.79\n",
      "02:00: 4.23\n",
      "03:00: 10.63\n",
      "04:00: 9.5\n",
      "05:00: 3.05\n",
      "06:00: 8.88\n",
      "07:00: 11.5\n",
      "08:00: 4.85\n",
      "09:00: 9.7\n",
      "10:00: 8.25\n",
      "11:00: 11.16\n",
      "12:00: 11.8\n",
      "13:00: 9.56\n",
      "14:00: 13.44\n",
      "15:00: 8.1\n",
      "16:00: 11.66\n",
      "17:00: 9.8\n",
      "18:00: 15.77\n",
      "19:00: 9.8\n",
      "20:00: 10.2\n",
      "21:00: 5.79\n",
      "22:00: 12.39\n",
      "23:00: 12.42\n"
     ]
    }
   ],
   "source": [
    "import datetime as dt\n",
    "from collections import OrderedDict\n",
    "\n",
    "def generate_time_dicts(dataset):\n",
    "    result_list = []\n",
    "    counts_by_hour = dict()\n",
    "    comments_by_hour = dict()\n",
    "\n",
    "    for row in dataset:\n",
    "        created_at = row[6]\n",
    "        comments = int(row[4])\n",
    "        result_list.append([created_at, comments])\n",
    "\n",
    "    for post in result_list:\n",
    "        date = dt.datetime.strptime(post[0], '%m/%d/%Y %H:%M')\n",
    "        hour = date.strftime('%H')\n",
    "        if hour in counts_by_hour:\n",
    "            counts_by_hour[hour] += 1\n",
    "        else:\n",
    "            counts_by_hour[hour] = 1\n",
    "\n",
    "        if hour in comments_by_hour:\n",
    "            comments_by_hour[hour] += post[1]\n",
    "        else:\n",
    "            comments_by_hour[hour] = post[1]\n",
    "\n",
    "    return counts_by_hour, comments_by_hour\n",
    "\n",
    "\n",
    "def calculate_average_comments(counts, comments):\n",
    "    averages_dict = dict()\n",
    "    for hour in counts.keys():\n",
    "        averages_dict[hour] = round(comments[hour] / counts[hour], 2)\n",
    "\n",
    "    return averages_dict\n",
    "\n",
    "\n",
    "ask_post_averages = calculate_average_comments(*generate_time_dicts(ask_posts))\n",
    "ask_post_averages = OrderedDict(sorted(ask_post_averages.items()))\n",
    "print('Average Comments per Hour (Ask Posts)\\n')\n",
    "for hour in ask_post_averages:\n",
    "    print(f'{hour}:00: {ask_post_averages[hour]}')\n",
    "          \n",
    "show_post_averages = calculate_average_comments(*generate_time_dicts(show_posts))\n",
    "show_post_averages = OrderedDict(sorted(show_post_averages.items()))\n",
    "print('\\nAverage Comments per Hour (Show Posts)\\n')\n",
    "for hour in show_post_averages:\n",
    "    print(f'{hour}:00: {show_post_averages[hour]}')"
   ]
  },
  {
   "cell_type": "markdown",
   "id": "7561791c-04d4-4b26-a0e8-d713a223f972",
   "metadata": {},
   "source": [
    "We have the data here, but it can be difficult to parse just a list of numbers. Let us chart the average number of comments vs hour, with the understanding that all times are listed in ET (UTC-5)."
   ]
  },
  {
   "cell_type": "code",
   "execution_count": 8,
   "id": "08c978cb-8196-4531-97d1-0833eac97a38",
   "metadata": {},
   "outputs": [
    {
     "data": {
      "image/png": "[encoded data removed]",
      "text/plain": [
       "<Figure size 640x480 with 1 Axes>"
      ]
     },
     "metadata": {},
     "output_type": "display_data"
    }
   ],
   "source": [
    "import matplotlib.pylab as plt\n",
    "\n",
    "ask_x = ask_post_averages.keys()\n",
    "ask_y = ask_post_averages.values()\n",
    "\n",
    "plt.plot(ask_x, ask_y)\n",
    "\n",
    "show_x = show_post_averages.keys()\n",
    "show_y = show_post_averages.values()\n",
    "\n",
    "plt.plot(show_x, show_y)\n",
    "plt.legend(['Ask Posts', 'Show Posts'])\n",
    "plt.show()"
   ]
  },
  {
   "cell_type": "markdown",
   "id": "47a6b52d-e315-4d64-9ff9-31e5d5663e8e",
   "metadata": {},
   "source": [
    "## Conclusion"
   ]
  },
  {
   "cell_type": "markdown",
   "id": "f47f93fb-9020-49f6-997e-a267fd9ea628",
   "metadata": {},
   "source": [
    "When it comes to making ask posts, there appear to be three times when a post is likeliest to take off. Those times being 2am ET, 3pm ET, and 8pm ET. If we convert those to PT, we get 11pm, 12pm, and 5pm respectively. This matches up with our expectations that PT would be the dominant force for posts. It appears that the users of Hacker News are most likely to respond to ask posts during their lunch, right after work, and right before bed.\n",
    "\n",
    "With show posts, the pattern is much more difficult to see. There appears to be a small uptick in average posts during the day (starting from 5am PT and ending at 12pm PT), but the noise of the data obfuscates whether that's a true pattern or just happenstance. Even at night we see small spikes at 12am PT and 4am PT.\n",
    "\n",
    "One intersting pattern is that there appears to be an inverse relationship between the success of ask posts and show posts. When one spikes, the other dips and vice versa. This can be explained by the posts cannibalizing each other. When a post is most successful, it is taking eyes and comments away from other posts happening around the same time."
   ]
  }
 ],
 "metadata": {
  "kernelspec": {
   "display_name": "Python 3 (ipykernel)",
   "language": "python",
   "name": "python3"
  },
  "language_info": {
   "codemirror_mode": {
    "name": "ipython",
    "version": 3
   },
   "file_extension": ".py",
   "mimetype": "text/x-python",
   "name": "python",
   "nbconvert_exporter": "python",
   "pygments_lexer": "ipython3",
   "version": "3.11.4"
  }
 },
 "nbformat": 4,
 "nbformat_minor": 5
}
